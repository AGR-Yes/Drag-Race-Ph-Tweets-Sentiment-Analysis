{
 "cells": [
  {
   "cell_type": "code",
   "execution_count": 1,
   "id": "44f64085-3381-45c2-bfeb-690a41ccd9fb",
   "metadata": {},
   "outputs": [],
   "source": [
    "import csv\n",
    "import re\n",
    "import tweepy as tw\n",
    "from tweepy import OAuthHandler\n",
    "import json\n",
    "import pandas as pd\n",
    "from tqdm import tqdm\n",
    "#from textblob import TextBlob"
   ]
  },
  {
   "cell_type": "markdown",
   "id": "9fc63fd6-5672-4736-be0b-d996d93ca5d0",
   "metadata": {},
   "source": [
    "API Key: muu2M1022ewE3kyp9n8htXUhG\n",
    "\n",
    "API Key Secret: maoVOgy8ociuWKevJJP47B7PCvzQ6nUH8kQLtgIauehKP8yhMg\n",
    "\n",
    "Bearer Token: AAAAAAAAAAAAAAAAAAAAAANZiAEAAAAAz9jkb85%2BMUKt%2BznToD3aVBvBKVk%3DKzRsqQQa08jG44793cCrFq885TvSUMCVgEeXAAKTiGfvSgeJf5\n",
    "\n",
    "Access Token: 1081551735955501056-tVkBDmaVma02s9agJh7pdOvgnpQVM3\n",
    "\n",
    "Access Token Secret: bLm3GVRVuSSlIHwjkzkkKzlCpQ48YJeV07ytDiS1ghd5n"
   ]
  },
  {
   "cell_type": "code",
   "execution_count": 48,
   "id": "243823ca-a3fd-4d2b-9eb7-b1f26563f6ff",
   "metadata": {},
   "outputs": [],
   "source": [
    "#Getting authorization\n",
    "consumer_key = 'muu2M1022ewE3kyp9n8htXUhG'\n",
    "consumer_secret = 'maoVOgy8ociuWKevJJP47B7PCvzQ6nUH8kQLtgIauehKP8yhMg'\n",
    "access_token = '1081551735955501056-tVkBDmaVma02s9agJh7pdOvgnpQVM3'\n",
    "access_secret = 'bLm3GVRVuSSlIHwjkzkkKzlCpQ48YJeV07ytDiS1ghd5n'\n",
    "\n",
    "auth = tw.OAuthHandler(consumer_key, consumer_secret)\n",
    "auth.set_access_token(access_token, access_secret)\n",
    "api = tw.API(auth, wait_on_rate_limit=True)"
   ]
  },
  {
   "cell_type": "code",
   "execution_count": 54,
   "id": "73d906ba-0c92-4c00-ab85-896bbaa4e817",
   "metadata": {},
   "outputs": [],
   "source": [
    "search_query1 = \"#TeamPreciousPaulaNicole -filter:retweets\"\n",
    "search_query2 = \"#TeamMarinaSummers -filter:retweets\"\n",
    "\n",
    "number_of_tweets = 20 #change as needed"
   ]
  },
  {
   "cell_type": "markdown",
   "id": "9df296c7-b061-4654-be7c-ecbed6acf113",
   "metadata": {},
   "source": [
    "#  #TeamPreciousPaulaNicole"
   ]
  },
  {
   "cell_type": "code",
   "execution_count": 55,
   "id": "c631d4ea-494f-4df6-aac7-8ee28daa24d3",
   "metadata": {},
   "outputs": [],
   "source": [
    "# get tweets from the API\n",
    "tweets = tw.Cursor(api.search_tweets,\n",
    "              q=search_query1,\n",
    "              lang=\"en\",\n",
    "              #since_id=\"2022-10-4\",\n",
    "              until = \"2022-10-11\"\n",
    "                  ).items(number_of_tweets) #year-month-day format\n",
    "# store the API responses in a list\n",
    "tweets_copy = []\n",
    "for tweet in tweets:\n",
    "    tweets_copy.append(tweet)\n",
    "    \n",
    "#print(\"Total Tweets fetched:\", len(tweets_copy))"
   ]
  },
  {
   "cell_type": "code",
   "execution_count": 46,
   "id": "20693867-7c70-4930-a7a2-58935e2f5111",
   "metadata": {},
   "outputs": [],
   "source": [
    "PPN1 = pd.DataFrame()\n",
    "# populate the dataframe\n",
    "for tweet in tweets_copy:\n",
    "    hashtags = []\n",
    "    try:\n",
    "        for hashtag in tweet.entities[\"hashtags\"]:\n",
    "            hashtags.append(hashtag[\"text\"])\n",
    "        text = api.get_status(id=tweet.id, tweet_mode='extended').full_text\n",
    "    except:\n",
    "        pass\n",
    "    tweets_df = tweets_df.append(pd.DataFrame({'user_name': tweet.user.name, #we can only include the columns we need\n",
    "                                               #'user_location': tweet.user.location,\\\n",
    "                                               #'user_description': tweet.user.description,\n",
    "                                               #'user_verified': tweet.user.verified,\n",
    "                                               'date': tweet.created_at,\n",
    "                                               'text': text, \n",
    "                                               'hashtags': [hashtags if hashtags else None],\n",
    "                                               #'source': tweet.source\n",
    "                                              })) #this is just to close everything pls dont remove \n",
    "    tweets_df = tweets_df.reset_index(drop=True)\n",
    "# show the dataframe"
   ]
  },
  {
   "cell_type": "markdown",
   "id": "fd191840-1c37-4fa7-8b9a-d4d62a8dd3b4",
   "metadata": {},
   "source": [
    "# #TeamMarinaSummers"
   ]
  },
  {
   "cell_type": "code",
   "execution_count": null,
   "id": "33e2f3ad-f502-46cc-b59f-37c284f63a0c",
   "metadata": {},
   "outputs": [],
   "source": []
  }
 ],
 "metadata": {
  "kernelspec": {
   "display_name": "Python 3",
   "language": "python",
   "name": "python3"
  },
  "language_info": {
   "codemirror_mode": {
    "name": "ipython",
    "version": 3
   },
   "file_extension": ".py",
   "mimetype": "text/x-python",
   "name": "python",
   "nbconvert_exporter": "python",
   "pygments_lexer": "ipython3",
   "version": "3.8.8"
  }
 },
 "nbformat": 4,
 "nbformat_minor": 5
}
