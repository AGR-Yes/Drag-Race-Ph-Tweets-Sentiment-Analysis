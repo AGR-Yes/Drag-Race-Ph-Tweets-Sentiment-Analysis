{
 "cells": [
  {
   "cell_type": "markdown",
   "metadata": {},
   "source": [
    "# Drag Race Philippines Sentiment Analysis\n",
    "\n",
    "##### *GROUP 7*\n",
    "Gozon, Jean Pauline <br>\n",
    "Jamias, Gillian Nicole <br>\n",
    "Reyes, Anton Gabriel"
   ]
  },
  {
   "cell_type": "markdown",
   "metadata": {
    "id": "9Ev7sKCkM7sz"
   },
   "source": [
    "# Importing Libraries and Datasets"
   ]
  },
  {
   "cell_type": "code",
   "execution_count": 25,
   "metadata": {
    "colab": {
     "base_uri": "https://localhost:8080/"
    },
    "id": "aLxpHGRa4Ga2",
    "outputId": "8b8d48ee-6a77-4f0e-b52e-16e9e9e38f00"
   },
   "outputs": [],
   "source": [
    "#Importing Libraries\n",
    "\n",
    "import pandas as pd\n",
    "import numpy as np\n",
    "import datetime as dt\n",
    "import seaborn as sns\n",
    "import matplotlib.pyplot as plt\n",
    "import re\n",
    "from collections import Counter\n",
    "import spacy\n",
    "from wordcloud import WordCloud, STOPWORDS\n",
    "\n",
    "sns.set_theme(style='darkgrid')\n",
    "\n",
    "%matplotlib inline\n"
   ]
  },
  {
   "cell_type": "code",
   "execution_count": 51,
   "metadata": {
    "colab": {
     "base_uri": "https://localhost:8080/"
    },
    "id": "dlX-In25eRqp",
    "outputId": "87355add-038c-47df-b3bb-5673fc0dc6f8"
   },
   "outputs": [
    {
     "name": "stderr",
     "output_type": "stream",
     "text": [
      "[nltk_data] Downloading package vader_lexicon to\n",
      "[nltk_data]     C:\\Users\\Mos\\AppData\\Roaming\\nltk_data...\n"
     ]
    },
    {
     "data": {
      "text/plain": [
       "True"
      ]
     },
     "execution_count": 51,
     "metadata": {},
     "output_type": "execute_result"
    }
   ],
   "source": [
    "# nltk\n",
    "#!pip install nltk\n",
    "import nltk\n",
    "from nltk.stem import WordNetLemmatizer\n",
    "from nltk.corpus import stopwords\n",
    "from nltk.tokenize import RegexpTokenizer\n",
    "from nltk.probability import FreqDist\n",
    "from nltk.stem import WordNetLemmatizer\n",
    "from nltk.sentiment import SentimentIntensityAnalyzer\n",
    "\n",
    "#nltk.download('stopwords')\n",
    "#nltk.download('punkt')\n",
    "#nltk.download('wordnet')\n",
    "#nltk.download('omw-1.4')\n",
    "nltk.download('vader_lexicon')"
   ]
  },
  {
   "cell_type": "code",
   "execution_count": 27,
   "metadata": {
    "id": "wnwcbVx_YHWg"
   },
   "outputs": [],
   "source": [
    "PPN = pd.read_csv('PPN_cleaned.csv')\n",
    "\n",
    "MS = pd.read_csv('MS_cleaned.csv')"
   ]
  },
  {
   "cell_type": "markdown",
   "metadata": {
    "id": "L5TnBgWhYJLX"
   },
   "source": [
    "# Data Mining Methodology"
   ]
  },
  {
   "cell_type": "markdown",
   "metadata": {
    "id": "uSYbczlya1-X"
   },
   "source": [
    "## Pre-Processing"
   ]
  },
  {
   "cell_type": "markdown",
   "metadata": {
    "id": "KmOcEyE7zuPD"
   },
   "source": [
    "### General Pre-Processing"
   ]
  },
  {
   "cell_type": "markdown",
   "metadata": {
    "id": "1lO54t4fqpdZ"
   },
   "source": [
    "#### Dropping the original `hashtags` column."
   ]
  },
  {
   "cell_type": "code",
   "execution_count": 28,
   "metadata": {
    "id": "aR5-6W2YYLif"
   },
   "outputs": [],
   "source": [
    "PPN = PPN.drop(PPN.columns[[0, 4]], axis=1)\n",
    "MS = MS.drop(MS.columns[[0, 4]], axis=1)"
   ]
  },
  {
   "cell_type": "markdown",
   "metadata": {
    "id": "xGqHFzlkqxVR"
   },
   "source": [
    "#### Removing unnecessary character sequences in the `text` column.\n",
    "\n",
    "Done by using Regex to further clean the `text` column from media links, hashtags, usernames, and \"RT\"s."
   ]
  },
  {
   "cell_type": "code",
   "execution_count": 29,
   "metadata": {
    "id": "wFYvsGntq46d"
   },
   "outputs": [],
   "source": [
    "def remove_usernames_links(tweet):\n",
    "    tweet = re.sub('RT', '', tweet) #RT\n",
    "    tweet = re.sub('@[^\\s]+', '', tweet) #usernames\n",
    "    tweet = re.sub('http[^\\s]+','',tweet) #media links\n",
    "    return tweet\n",
    "\n",
    "def remove_hashtags(tweet):\n",
    "    tweet = re.sub('#[^ ]+', '', tweet) #hashtags\n",
    "    return tweet\n"
   ]
  },
  {
   "cell_type": "code",
   "execution_count": 30,
   "metadata": {
    "id": "l-YeN6Qyq8ZB"
   },
   "outputs": [],
   "source": [
    "#Using the first function\n",
    "PPN['text'] = PPN['text'].apply(remove_usernames_links)\n",
    "MS['text'] = MS['text'].apply(remove_usernames_links)"
   ]
  },
  {
   "cell_type": "code",
   "execution_count": 31,
   "metadata": {
    "colab": {
     "base_uri": "https://localhost:8080/"
    },
    "id": "m17Dv0iQIR12",
    "outputId": "618ee05f-fbbd-4d48-e810-3a2babca68b3"
   },
   "outputs": [
    {
     "data": {
      "text/html": [
       "<div>\n",
       "<style scoped>\n",
       "    .dataframe tbody tr th:only-of-type {\n",
       "        vertical-align: middle;\n",
       "    }\n",
       "\n",
       "    .dataframe tbody tr th {\n",
       "        vertical-align: top;\n",
       "    }\n",
       "\n",
       "    .dataframe thead th {\n",
       "        text-align: right;\n",
       "    }\n",
       "</style>\n",
       "<table border=\"1\" class=\"dataframe\">\n",
       "  <thead>\n",
       "    <tr style=\"text-align: right;\">\n",
       "      <th></th>\n",
       "      <th>user_name</th>\n",
       "      <th>date</th>\n",
       "      <th>text</th>\n",
       "      <th>Date</th>\n",
       "      <th>Time</th>\n",
       "    </tr>\n",
       "  </thead>\n",
       "  <tbody>\n",
       "    <tr>\n",
       "      <th>0</th>\n",
       "      <td>Jec Torres</td>\n",
       "      <td>2022-10-16 15:22:53+00:00</td>\n",
       "      <td>If you just believe in your wildest dreams the...</td>\n",
       "      <td>2022-10-16</td>\n",
       "      <td>15:22:53</td>\n",
       "    </tr>\n",
       "    <tr>\n",
       "      <th>1</th>\n",
       "      <td>Abby | Precious Canada ❤️</td>\n",
       "      <td>2022-10-16 08:33:26+00:00</td>\n",
       "      <td>#TeamPreciousPaulaNicole yes excellent drag ...</td>\n",
       "      <td>2022-10-16</td>\n",
       "      <td>08:33:26</td>\n",
       "    </tr>\n",
       "    <tr>\n",
       "      <th>2</th>\n",
       "      <td>Jec Torres</td>\n",
       "      <td>2022-10-16 07:59:32+00:00</td>\n",
       "      <td>Sissy that Walk, Queen  👑❤️ #Baksilog #DragRac...</td>\n",
       "      <td>2022-10-16</td>\n",
       "      <td>07:59:32</td>\n",
       "    </tr>\n",
       "  </tbody>\n",
       "</table>\n",
       "</div>"
      ],
      "text/plain": [
       "                   user_name                       date  \\\n",
       "0                 Jec Torres  2022-10-16 15:22:53+00:00   \n",
       "1  Abby | Precious Canada ❤️  2022-10-16 08:33:26+00:00   \n",
       "2                 Jec Torres  2022-10-16 07:59:32+00:00   \n",
       "\n",
       "                                                text        Date      Time  \n",
       "0  If you just believe in your wildest dreams the...  2022-10-16  15:22:53  \n",
       "1    #TeamPreciousPaulaNicole yes excellent drag ...  2022-10-16  08:33:26  \n",
       "2  Sissy that Walk, Queen  👑❤️ #Baksilog #DragRac...  2022-10-16  07:59:32  "
      ]
     },
     "execution_count": 31,
     "metadata": {},
     "output_type": "execute_result"
    }
   ],
   "source": [
    "PPN.head(3)"
   ]
  },
  {
   "cell_type": "code",
   "execution_count": 32,
   "metadata": {
    "colab": {
     "base_uri": "https://localhost:8080/"
    },
    "id": "LUevsuwhs1iQ",
    "outputId": "d3c4932a-d6ac-4625-a13a-f18f50cc5d40"
   },
   "outputs": [
    {
     "data": {
      "text/html": [
       "<div>\n",
       "<style scoped>\n",
       "    .dataframe tbody tr th:only-of-type {\n",
       "        vertical-align: middle;\n",
       "    }\n",
       "\n",
       "    .dataframe tbody tr th {\n",
       "        vertical-align: top;\n",
       "    }\n",
       "\n",
       "    .dataframe thead th {\n",
       "        text-align: right;\n",
       "    }\n",
       "</style>\n",
       "<table border=\"1\" class=\"dataframe\">\n",
       "  <thead>\n",
       "    <tr style=\"text-align: right;\">\n",
       "      <th></th>\n",
       "      <th>user_name</th>\n",
       "      <th>date</th>\n",
       "      <th>text</th>\n",
       "      <th>Date</th>\n",
       "      <th>Time</th>\n",
       "    </tr>\n",
       "  </thead>\n",
       "  <tbody>\n",
       "    <tr>\n",
       "      <th>0</th>\n",
       "      <td>Anj Honne</td>\n",
       "      <td>2022-10-15 18:02:58+00:00</td>\n",
       "      <td>This is playing in my mind rent free. Love ya ...</td>\n",
       "      <td>2022-10-15</td>\n",
       "      <td>18:02:58</td>\n",
       "    </tr>\n",
       "    <tr>\n",
       "      <th>1</th>\n",
       "      <td>DaDykewingDuck</td>\n",
       "      <td>2022-10-15 03:15:44+00:00</td>\n",
       "      <td>I'm still #TeamMarinaSummers #TeamMarina</td>\n",
       "      <td>2022-10-15</td>\n",
       "      <td>03:15:44</td>\n",
       "    </tr>\n",
       "    <tr>\n",
       "      <th>2</th>\n",
       "      <td>2x5</td>\n",
       "      <td>2022-10-14 13:41:36+00:00</td>\n",
       "      <td>You slaaaaayed all season and you served the ...</td>\n",
       "      <td>2022-10-14</td>\n",
       "      <td>13:41:36</td>\n",
       "    </tr>\n",
       "  </tbody>\n",
       "</table>\n",
       "</div>"
      ],
      "text/plain": [
       "        user_name                       date  \\\n",
       "0       Anj Honne  2022-10-15 18:02:58+00:00   \n",
       "1  DaDykewingDuck  2022-10-15 03:15:44+00:00   \n",
       "2             2x5  2022-10-14 13:41:36+00:00   \n",
       "\n",
       "                                                text        Date      Time  \n",
       "0  This is playing in my mind rent free. Love ya ...  2022-10-15  18:02:58  \n",
       "1           I'm still #TeamMarinaSummers #TeamMarina  2022-10-15  03:15:44  \n",
       "2   You slaaaaayed all season and you served the ...  2022-10-14  13:41:36  "
      ]
     },
     "execution_count": 32,
     "metadata": {},
     "output_type": "execute_result"
    }
   ],
   "source": [
    "MS.head(3)"
   ]
  },
  {
   "cell_type": "markdown",
   "metadata": {
    "id": "BDoAlC_ov-7N"
   },
   "source": [
    "#### Extracting the hashtags from the `text` column\n",
    "\n",
    "We got the hashtags and put them in their own column."
   ]
  },
  {
   "cell_type": "code",
   "execution_count": 33,
   "metadata": {
    "id": "IwFZ544bwHg1"
   },
   "outputs": [],
   "source": [
    "def find_tags(row_string):\n",
    "    # use a list comprehension to find list items that start with hashtag\n",
    "    tags = [x for x in row_string if x.startswith('#')]\n",
    "    return tags\n",
    "\n",
    "PPN['split'] = PPN['text'].str.split(' ')\n",
    "MS['split'] = MS['text'].str.split(' ')\n",
    "\n",
    "PPN['hashtags'] = PPN['split'].apply(lambda row : find_tags(row))\n",
    "MS['hashtags'] = MS['split'].apply(lambda row : find_tags(row))\n",
    "\n",
    "PPN['hashtags'] = PPN['hashtags'].apply(lambda x : str(x).replace('#', '').replace('\\\\n', ',').replace('\\\\', '').replace(\"'\", \"\"))\n",
    "MS['hashtags'] = MS['hashtags'].apply(lambda x : str(x).replace('#', '').replace('\\\\n', ',').replace('\\\\', '').replace(\"'\", \"\"))"
   ]
  },
  {
   "cell_type": "code",
   "execution_count": 34,
   "metadata": {
    "colab": {
     "base_uri": "https://localhost:8080/"
    },
    "id": "dBYko_G8G-tE",
    "outputId": "c6129d4c-9d7e-4150-ef5a-4cc65fd43843"
   },
   "outputs": [
    {
     "data": {
      "text/html": [
       "<div>\n",
       "<style scoped>\n",
       "    .dataframe tbody tr th:only-of-type {\n",
       "        vertical-align: middle;\n",
       "    }\n",
       "\n",
       "    .dataframe tbody tr th {\n",
       "        vertical-align: top;\n",
       "    }\n",
       "\n",
       "    .dataframe thead th {\n",
       "        text-align: right;\n",
       "    }\n",
       "</style>\n",
       "<table border=\"1\" class=\"dataframe\">\n",
       "  <thead>\n",
       "    <tr style=\"text-align: right;\">\n",
       "      <th></th>\n",
       "      <th>user_name</th>\n",
       "      <th>date</th>\n",
       "      <th>text</th>\n",
       "      <th>Date</th>\n",
       "      <th>Time</th>\n",
       "      <th>split</th>\n",
       "      <th>hashtags</th>\n",
       "    </tr>\n",
       "  </thead>\n",
       "  <tbody>\n",
       "    <tr>\n",
       "      <th>0</th>\n",
       "      <td>Jec Torres</td>\n",
       "      <td>2022-10-16 15:22:53+00:00</td>\n",
       "      <td>If you just believe in your wildest dreams the...</td>\n",
       "      <td>2022-10-16</td>\n",
       "      <td>15:22:53</td>\n",
       "      <td>[If, you, just, believe, in, your, wildest, dr...</td>\n",
       "      <td>[Baksilog, DragRacePh, TeamPrecious, TeamPreci...</td>\n",
       "    </tr>\n",
       "    <tr>\n",
       "      <th>1</th>\n",
       "      <td>Abby | Precious Canada ❤️</td>\n",
       "      <td>2022-10-16 08:33:26+00:00</td>\n",
       "      <td>#TeamPreciousPaulaNicole yes excellent drag ...</td>\n",
       "      <td>2022-10-16</td>\n",
       "      <td>08:33:26</td>\n",
       "      <td>[, , #TeamPreciousPaulaNicole, yes, excellent,...</td>\n",
       "      <td>[TeamPreciousPaulaNicole]</td>\n",
       "    </tr>\n",
       "    <tr>\n",
       "      <th>2</th>\n",
       "      <td>Jec Torres</td>\n",
       "      <td>2022-10-16 07:59:32+00:00</td>\n",
       "      <td>Sissy that Walk, Queen  👑❤️ #Baksilog #DragRac...</td>\n",
       "      <td>2022-10-16</td>\n",
       "      <td>07:59:32</td>\n",
       "      <td>[Sissy, that, Walk,, Queen, , 👑❤️, #Baksilog, ...</td>\n",
       "      <td>[Baksilog, DragRacePh, TeamPrecious, TeamPreci...</td>\n",
       "    </tr>\n",
       "  </tbody>\n",
       "</table>\n",
       "</div>"
      ],
      "text/plain": [
       "                   user_name                       date  \\\n",
       "0                 Jec Torres  2022-10-16 15:22:53+00:00   \n",
       "1  Abby | Precious Canada ❤️  2022-10-16 08:33:26+00:00   \n",
       "2                 Jec Torres  2022-10-16 07:59:32+00:00   \n",
       "\n",
       "                                                text        Date      Time  \\\n",
       "0  If you just believe in your wildest dreams the...  2022-10-16  15:22:53   \n",
       "1    #TeamPreciousPaulaNicole yes excellent drag ...  2022-10-16  08:33:26   \n",
       "2  Sissy that Walk, Queen  👑❤️ #Baksilog #DragRac...  2022-10-16  07:59:32   \n",
       "\n",
       "                                               split  \\\n",
       "0  [If, you, just, believe, in, your, wildest, dr...   \n",
       "1  [, , #TeamPreciousPaulaNicole, yes, excellent,...   \n",
       "2  [Sissy, that, Walk,, Queen, , 👑❤️, #Baksilog, ...   \n",
       "\n",
       "                                            hashtags  \n",
       "0  [Baksilog, DragRacePh, TeamPrecious, TeamPreci...  \n",
       "1                          [TeamPreciousPaulaNicole]  \n",
       "2  [Baksilog, DragRacePh, TeamPrecious, TeamPreci...  "
      ]
     },
     "execution_count": 34,
     "metadata": {},
     "output_type": "execute_result"
    }
   ],
   "source": [
    "PPN.head(3)"
   ]
  },
  {
   "cell_type": "code",
   "execution_count": 35,
   "metadata": {
    "colab": {
     "base_uri": "https://localhost:8080/"
    },
    "id": "n0w9FFs7Ie7W",
    "outputId": "0bd25883-f752-446b-b9e3-70d1a863b9ff"
   },
   "outputs": [
    {
     "data": {
      "text/html": [
       "<div>\n",
       "<style scoped>\n",
       "    .dataframe tbody tr th:only-of-type {\n",
       "        vertical-align: middle;\n",
       "    }\n",
       "\n",
       "    .dataframe tbody tr th {\n",
       "        vertical-align: top;\n",
       "    }\n",
       "\n",
       "    .dataframe thead th {\n",
       "        text-align: right;\n",
       "    }\n",
       "</style>\n",
       "<table border=\"1\" class=\"dataframe\">\n",
       "  <thead>\n",
       "    <tr style=\"text-align: right;\">\n",
       "      <th></th>\n",
       "      <th>user_name</th>\n",
       "      <th>date</th>\n",
       "      <th>text</th>\n",
       "      <th>Date</th>\n",
       "      <th>Time</th>\n",
       "      <th>split</th>\n",
       "      <th>hashtags</th>\n",
       "    </tr>\n",
       "  </thead>\n",
       "  <tbody>\n",
       "    <tr>\n",
       "      <th>0</th>\n",
       "      <td>Anj Honne</td>\n",
       "      <td>2022-10-15 18:02:58+00:00</td>\n",
       "      <td>This is playing in my mind rent free. Love ya ...</td>\n",
       "      <td>2022-10-15</td>\n",
       "      <td>18:02:58</td>\n",
       "      <td>[This, is, playing, in, my, mind, rent, free.,...</td>\n",
       "      <td>[TeamMarinaSummers]</td>\n",
       "    </tr>\n",
       "    <tr>\n",
       "      <th>1</th>\n",
       "      <td>DaDykewingDuck</td>\n",
       "      <td>2022-10-15 03:15:44+00:00</td>\n",
       "      <td>I'm still #TeamMarinaSummers #TeamMarina</td>\n",
       "      <td>2022-10-15</td>\n",
       "      <td>03:15:44</td>\n",
       "      <td>[I'm, still, #TeamMarinaSummers, #TeamMarina]</td>\n",
       "      <td>[TeamMarinaSummers, TeamMarina]</td>\n",
       "    </tr>\n",
       "    <tr>\n",
       "      <th>2</th>\n",
       "      <td>2x5</td>\n",
       "      <td>2022-10-14 13:41:36+00:00</td>\n",
       "      <td>You slaaaaayed all season and you served the ...</td>\n",
       "      <td>2022-10-14</td>\n",
       "      <td>13:41:36</td>\n",
       "      <td>[, You, slaaaaayed, all, season, and, you, ser...</td>\n",
       "      <td>[teammarinasummers]</td>\n",
       "    </tr>\n",
       "  </tbody>\n",
       "</table>\n",
       "</div>"
      ],
      "text/plain": [
       "        user_name                       date  \\\n",
       "0       Anj Honne  2022-10-15 18:02:58+00:00   \n",
       "1  DaDykewingDuck  2022-10-15 03:15:44+00:00   \n",
       "2             2x5  2022-10-14 13:41:36+00:00   \n",
       "\n",
       "                                                text        Date      Time  \\\n",
       "0  This is playing in my mind rent free. Love ya ...  2022-10-15  18:02:58   \n",
       "1           I'm still #TeamMarinaSummers #TeamMarina  2022-10-15  03:15:44   \n",
       "2   You slaaaaayed all season and you served the ...  2022-10-14  13:41:36   \n",
       "\n",
       "                                               split  \\\n",
       "0  [This, is, playing, in, my, mind, rent, free.,...   \n",
       "1      [I'm, still, #TeamMarinaSummers, #TeamMarina]   \n",
       "2  [, You, slaaaaayed, all, season, and, you, ser...   \n",
       "\n",
       "                          hashtags  \n",
       "0              [TeamMarinaSummers]  \n",
       "1  [TeamMarinaSummers, TeamMarina]  \n",
       "2              [teammarinasummers]  "
      ]
     },
     "execution_count": 35,
     "metadata": {},
     "output_type": "execute_result"
    }
   ],
   "source": [
    "MS.head(3)"
   ]
  },
  {
   "cell_type": "markdown",
   "metadata": {
    "id": "PLdVjPGqe387"
   },
   "source": [
    "#### Removing the hashtags in the `text` column"
   ]
  },
  {
   "cell_type": "code",
   "execution_count": 36,
   "metadata": {
    "id": "Fw8QOz67ermJ"
   },
   "outputs": [],
   "source": [
    "PPN['text'] = PPN['text'].apply(remove_hashtags)\n",
    "MS['text'] = MS['text'].apply(remove_hashtags)"
   ]
  },
  {
   "cell_type": "markdown",
   "metadata": {
    "id": "Pr7pskhwgWM2"
   },
   "source": [
    "### Emoji Sentiment Preparation"
   ]
  },
  {
   "cell_type": "markdown",
   "metadata": {
    "id": "QODDb-dlgqbC"
   },
   "source": [
    "#### Column Creation"
   ]
  },
  {
   "cell_type": "code",
   "execution_count": 37,
   "metadata": {
    "id": "xl_JujGO3JHz"
   },
   "outputs": [],
   "source": [
    "MS_emo = MS.drop(['user_name', 'Date','date', 'Time','split','hashtags'], axis = 1)\n",
    "PPN_emo = PPN.drop(['user_name', 'Date', 'date','Time','split','hashtags'], axis = 1)"
   ]
  },
  {
   "cell_type": "code",
   "execution_count": 38,
   "metadata": {
    "id": "ehCDUQzngG-x"
   },
   "outputs": [],
   "source": [
    "#PPN Dataset\n",
    "PPN_emo['positive_emoji'] = 0\n",
    "PPN_emo['neutral_emoji'] = 0\n",
    "PPN_emo['negative_emoji'] = 0\n",
    "\n",
    "#MS Dataset\n",
    "MS_emo['positive_emoji'] = 0\n",
    "MS_emo['neutral_emoji'] = 0\n",
    "MS_emo['negative_emoji'] = 0"
   ]
  },
  {
   "cell_type": "markdown",
   "metadata": {
    "id": "BFDeKcHfgtsC"
   },
   "source": [
    "#### Emoji Sentiments"
   ]
  },
  {
   "cell_type": "code",
   "execution_count": 39,
   "metadata": {
    "id": "dvsva2rvgwXx"
   },
   "outputs": [],
   "source": [
    "positive_emoji = ['💛','💟','💚','❤️','💜','💙','❤','😍','♥️','😊','💕','😂','🙌','🤑','💖','✨','😊','🎉','💞','😝','😃','😁','😎','😘','💓','😉','😄','😀','😜','💗','😌','😆','😛','😻','🙋','❣️','🙂','😇','💝','😏','😋','🤗','🙆','🤓','😚','😙','😸','😼','😺','😽']\n",
    "neutral_emoji = ['🙏','👽','😅','🙃','💩','😳','😑','🙇','🙎','😐','😶','👍','😬']\n",
    "negative_emoji = ['💥','💘','😭','😱','👎','🙄','😫','😨','😢','💀','🤔','👻','😓','💦','😤','😩','😴','💔','😒','😪','😈','😣','😮','😡','😕','😔','😠','😷','😥','😞','😲','😰','🙀','😖','😧','😟','😹','😵','😶','😯','🤒','🤕','😾','💤']"
   ]
  },
  {
   "cell_type": "code",
   "execution_count": 40,
   "metadata": {
    "id": "kFMzV0TthY3w"
   },
   "outputs": [],
   "source": [
    "emoji_rx = r\"[#*0-9]\\uFE0F?\\u20E3|©\\uFE0F?|[®\\u203C\\u2049\\u2122\\u2139\\u2194-\\u2199\\u21A9\\u21AA]\\uFE0F?|[\\u231A\\u231B]|[\\u2328\\u23CF]\\uFE0F?|[\\u23E9-\\u23EC]|[\\u23ED-\\u23EF]\\uFE0F?|\\u23F0|[\\u23F1\\u23F2]\\uFE0F?|\\u23F3|[\\u23F8-\\u23FA\\u24C2\\u25AA\\u25AB\\u25B6\\u25C0\\u25FB\\u25FC]\\uFE0F?|[\\u25FD\\u25FE]|[\\u2600-\\u2604\\u260E\\u2611]\\uFE0F?|[\\u2614\\u2615]|\\u2618\\uFE0F?|\\u261D[\\uFE0F\\U0001F3FB-\\U0001F3FF]?|[\\u2620\\u2622\\u2623\\u2626\\u262A\\u262E\\u262F\\u2638-\\u263A\\u2640\\u2642]\\uFE0F?|[\\u2648-\\u2653]|[\\u265F\\u2660\\u2663\\u2665\\u2666\\u2668\\u267B\\u267E]\\uFE0F?|\\u267F|\\u2692\\uFE0F?|\\u2693|[\\u2694-\\u2697\\u2699\\u269B\\u269C\\u26A0]\\uFE0F?|\\u26A1|\\u26A7\\uFE0F?|[\\u26AA\\u26AB]|[\\u26B0\\u26B1]\\uFE0F?|[\\u26BD\\u26BE\\u26C4\\u26C5]|\\u26C8\\uFE0F?|\\u26CE|[\\u26CF\\u26D1\\u26D3]\\uFE0F?|\\u26D4|\\u26E9\\uFE0F?|\\u26EA|[\\u26F0\\u26F1]\\uFE0F?|[\\u26F2\\u26F3]|\\u26F4\\uFE0F?|\\u26F5|[\\u26F7\\u26F8]\\uFE0F?|\\u26F9(?:\\u200D[\\u2640\\u2642]\\uFE0F?|[\\uFE0F\\U0001F3FB-\\U0001F3FF](?:\\u200D[\\u2640\\u2642]\\uFE0F?)?)?|[\\u26FA\\u26FD]|\\u2702\\uFE0F?|\\u2705|[\\u2708\\u2709]\\uFE0F?|[\\u270A\\u270B][\\U0001F3FB-\\U0001F3FF]?|[\\u270C\\u270D][\\uFE0F\\U0001F3FB-\\U0001F3FF]?|\\u270F\\uFE0F?|[\\u2712\\u2714\\u2716\\u271D\\u2721]\\uFE0F?|\\u2728|[\\u2733\\u2734\\u2744\\u2747]\\uFE0F?|[\\u274C\\u274E\\u2753-\\u2755\\u2757]|\\u2763\\uFE0F?|\\u2764(?:\\u200D[\\U0001F525\\U0001FA79]|\\uFE0F(?:\\u200D[\\U0001F525\\U0001FA79])?)?|[\\u2795-\\u2797]|\\u27A1\\uFE0F?|[\\u27B0\\u27BF]|[\\u2934\\u2935\\u2B05-\\u2B07]\\uFE0F?|[\\u2B1B\\u2B1C\\u2B50\\u2B55]|[\\u3030\\u303D\\u3297\\u3299]\\uFE0F?|[\\U0001F004\\U0001F0CF]|[\\U0001F170\\U0001F171\\U0001F17E\\U0001F17F]\\uFE0F?|[\\U0001F18E\\U0001F191-\\U0001F19A]|\\U0001F1E6[\\U0001F1E8-\\U0001F1EC\\U0001F1EE\\U0001F1F1\\U0001F1F2\\U0001F1F4\\U0001F1F6-\\U0001F1FA\\U0001F1FC\\U0001F1FD\\U0001F1FF]|\\U0001F1E7[\\U0001F1E6\\U0001F1E7\\U0001F1E9-\\U0001F1EF\\U0001F1F1-\\U0001F1F4\\U0001F1F6-\\U0001F1F9\\U0001F1FB\\U0001F1FC\\U0001F1FE\\U0001F1FF]|\\U0001F1E8[\\U0001F1E6\\U0001F1E8\\U0001F1E9\\U0001F1EB-\\U0001F1EE\\U0001F1F0-\\U0001F1F5\\U0001F1F7\\U0001F1FA-\\U0001F1FF]|\\U0001F1E9[\\U0001F1EA\\U0001F1EC\\U0001F1EF\\U0001F1F0\\U0001F1F2\\U0001F1F4\\U0001F1FF]|\\U0001F1EA[\\U0001F1E6\\U0001F1E8\\U0001F1EA\\U0001F1EC\\U0001F1ED\\U0001F1F7-\\U0001F1FA]|\\U0001F1EB[\\U0001F1EE-\\U0001F1F0\\U0001F1F2\\U0001F1F4\\U0001F1F7]|\\U0001F1EC[\\U0001F1E6\\U0001F1E7\\U0001F1E9-\\U0001F1EE\\U0001F1F1-\\U0001F1F3\\U0001F1F5-\\U0001F1FA\\U0001F1FC\\U0001F1FE]|\\U0001F1ED[\\U0001F1F0\\U0001F1F2\\U0001F1F3\\U0001F1F7\\U0001F1F9\\U0001F1FA]|\\U0001F1EE[\\U0001F1E8-\\U0001F1EA\\U0001F1F1-\\U0001F1F4\\U0001F1F6-\\U0001F1F9]|\\U0001F1EF[\\U0001F1EA\\U0001F1F2\\U0001F1F4\\U0001F1F5]|\\U0001F1F0[\\U0001F1EA\\U0001F1EC-\\U0001F1EE\\U0001F1F2\\U0001F1F3\\U0001F1F5\\U0001F1F7\\U0001F1FC\\U0001F1FE\\U0001F1FF]|\\U0001F1F1[\\U0001F1E6-\\U0001F1E8\\U0001F1EE\\U0001F1F0\\U0001F1F7-\\U0001F1FB\\U0001F1FE]|\\U0001F1F2[\\U0001F1E6\\U0001F1E8-\\U0001F1ED\\U0001F1F0-\\U0001F1FF]|\\U0001F1F3[\\U0001F1E6\\U0001F1E8\\U0001F1EA-\\U0001F1EC\\U0001F1EE\\U0001F1F1\\U0001F1F4\\U0001F1F5\\U0001F1F7\\U0001F1FA\\U0001F1FF]|\\U0001F1F4\\U0001F1F2|\\U0001F1F5[\\U0001F1E6\\U0001F1EA-\\U0001F1ED\\U0001F1F0-\\U0001F1F3\\U0001F1F7-\\U0001F1F9\\U0001F1FC\\U0001F1FE]|\\U0001F1F6\\U0001F1E6|\\U0001F1F7[\\U0001F1EA\\U0001F1F4\\U0001F1F8\\U0001F1FA\\U0001F1FC]|\\U0001F1F8[\\U0001F1E6-\\U0001F1EA\\U0001F1EC-\\U0001F1F4\\U0001F1F7-\\U0001F1F9\\U0001F1FB\\U0001F1FD-\\U0001F1FF]|\\U0001F1F9[\\U0001F1E6\\U0001F1E8\\U0001F1E9\\U0001F1EB-\\U0001F1ED\\U0001F1EF-\\U0001F1F4\\U0001F1F7\\U0001F1F9\\U0001F1FB\\U0001F1FC\\U0001F1FF]|\\U0001F1FA[\\U0001F1E6\\U0001F1EC\\U0001F1F2\\U0001F1F3\\U0001F1F8\\U0001F1FE\\U0001F1FF]|\\U0001F1FB[\\U0001F1E6\\U0001F1E8\\U0001F1EA\\U0001F1EC\\U0001F1EE\\U0001F1F3\\U0001F1FA]|\\U0001F1FC[\\U0001F1EB\\U0001F1F8]|\\U0001F1FD\\U0001F1F0|\\U0001F1FE[\\U0001F1EA\\U0001F1F9]|\\U0001F1FF[\\U0001F1E6\\U0001F1F2\\U0001F1FC]|\\U0001F201|\\U0001F202\\uFE0F?|[\\U0001F21A\\U0001F22F\\U0001F232-\\U0001F236]|\\U0001F237\\uFE0F?|[\\U0001F238-\\U0001F23A\\U0001F250\\U0001F251\\U0001F300-\\U0001F320]|[\\U0001F321\\U0001F324-\\U0001F32C]\\uFE0F?|[\\U0001F32D-\\U0001F335]|\\U0001F336\\uFE0F?|[\\U0001F337-\\U0001F37C]|\\U0001F37D\\uFE0F?|[\\U0001F37E-\\U0001F384]|\\U0001F385[\\U0001F3FB-\\U0001F3FF]?|[\\U0001F386-\\U0001F393]|[\\U0001F396\\U0001F397\\U0001F399-\\U0001F39B\\U0001F39E\\U0001F39F]\\uFE0F?|[\\U0001F3A0-\\U0001F3C1]|\\U0001F3C2[\\U0001F3FB-\\U0001F3FF]?|[\\U0001F3C3\\U0001F3C4](?:\\u200D[\\u2640\\u2642]\\uFE0F?|[\\U0001F3FB-\\U0001F3FF](?:\\u200D[\\u2640\\u2642]\\uFE0F?)?)?|[\\U0001F3C5\\U0001F3C6]|\\U0001F3C7[\\U0001F3FB-\\U0001F3FF]?|[\\U0001F3C8\\U0001F3C9]|\\U0001F3CA(?:\\u200D[\\u2640\\u2642]\\uFE0F?|[\\U0001F3FB-\\U0001F3FF](?:\\u200D[\\u2640\\u2642]\\uFE0F?)?)?|[\\U0001F3CB\\U0001F3CC](?:\\u200D[\\u2640\\u2642]\\uFE0F?|[\\uFE0F\\U0001F3FB-\\U0001F3FF](?:\\u200D[\\u2640\\u2642]\\uFE0F?)?)?|[\\U0001F3CD\\U0001F3CE]\\uFE0F?|[\\U0001F3CF-\\U0001F3D3]|[\\U0001F3D4-\\U0001F3DF]\\uFE0F?|[\\U0001F3E0-\\U0001F3F0]|\\U0001F3F3(?:\\u200D(?:\\u26A7\\uFE0F?|\\U0001F308)|\\uFE0F(?:\\u200D(?:\\u26A7\\uFE0F?|\\U0001F308))?)?|\\U0001F3F4(?:\\u200D\\u2620\\uFE0F?|\\U000E0067\\U000E0062(?:\\U000E0065\\U000E006E\\U000E0067|\\U000E0073\\U000E0063\\U000E0074|\\U000E0077\\U000E006C\\U000E0073)\\U000E007F)?|[\\U0001F3F5\\U0001F3F7]\\uFE0F?|[\\U0001F3F8-\\U0001F407]|\\U0001F408(?:\\u200D\\u2B1B)?|[\\U0001F409-\\U0001F414]|\\U0001F415(?:\\u200D\\U0001F9BA)?|[\\U0001F416-\\U0001F43A]|\\U0001F43B(?:\\u200D\\u2744\\uFE0F?)?|[\\U0001F43C-\\U0001F43E]|\\U0001F43F\\uFE0F?|\\U0001F440|\\U0001F441(?:\\u200D\\U0001F5E8\\uFE0F?|\\uFE0F(?:\\u200D\\U0001F5E8\\uFE0F?)?)?|[\\U0001F442\\U0001F443][\\U0001F3FB-\\U0001F3FF]?|[\\U0001F444\\U0001F445]|[\\U0001F446-\\U0001F450][\\U0001F3FB-\\U0001F3FF]?|[\\U0001F451-\\U0001F465]|[\\U0001F466\\U0001F467][\\U0001F3FB-\\U0001F3FF]?|\\U0001F468(?:\\u200D(?:[\\u2695\\u2696\\u2708]\\uFE0F?|\\u2764\\uFE0F?\\u200D(?:\\U0001F48B\\u200D)?\\U0001F468|[\\U0001F33E\\U0001F373\\U0001F37C\\U0001F393\\U0001F3A4\\U0001F3A8\\U0001F3EB\\U0001F3ED]|\\U0001F466(?:\\u200D\\U0001F466)?|\\U0001F467(?:\\u200D[\\U0001F466\\U0001F467])?|[\\U0001F468\\U0001F469]\\u200D(?:\\U0001F466(?:\\u200D\\U0001F466)?|\\U0001F467(?:\\u200D[\\U0001F466\\U0001F467])?)|[\\U0001F4BB\\U0001F4BC\\U0001F527\\U0001F52C\\U0001F680\\U0001F692\\U0001F9AF-\\U0001F9B3\\U0001F9BC\\U0001F9BD])|\\U0001F3FB(?:\\u200D(?:[\\u2695\\u2696\\u2708]\\uFE0F?|\\u2764\\uFE0F?\\u200D(?:\\U0001F48B\\u200D)?\\U0001F468[\\U0001F3FB-\\U0001F3FF]|[\\U0001F33E\\U0001F373\\U0001F37C\\U0001F393\\U0001F3A4\\U0001F3A8\\U0001F3EB\\U0001F3ED\\U0001F4BB\\U0001F4BC\\U0001F527\\U0001F52C\\U0001F680\\U0001F692]|\\U0001F91D\\u200D\\U0001F468[\\U0001F3FC-\\U0001F3FF]|[\\U0001F9AF-\\U0001F9B3\\U0001F9BC\\U0001F9BD]))?|\\U0001F3FC(?:\\u200D(?:[\\u2695\\u2696\\u2708]\\uFE0F?|\\u2764\\uFE0F?\\u200D(?:\\U0001F48B\\u200D)?\\U0001F468[\\U0001F3FB-\\U0001F3FF]|[\\U0001F33E\\U0001F373\\U0001F37C\\U0001F393\\U0001F3A4\\U0001F3A8\\U0001F3EB\\U0001F3ED\\U0001F4BB\\U0001F4BC\\U0001F527\\U0001F52C\\U0001F680\\U0001F692]|\\U0001F91D\\u200D\\U0001F468[\\U0001F3FB\\U0001F3FD-\\U0001F3FF]|[\\U0001F9AF-\\U0001F9B3\\U0001F9BC\\U0001F9BD]))?|\\U0001F3FD(?:\\u200D(?:[\\u2695\\u2696\\u2708]\\uFE0F?|\\u2764\\uFE0F?\\u200D(?:\\U0001F48B\\u200D)?\\U0001F468[\\U0001F3FB-\\U0001F3FF]|[\\U0001F33E\\U0001F373\\U0001F37C\\U0001F393\\U0001F3A4\\U0001F3A8\\U0001F3EB\\U0001F3ED\\U0001F4BB\\U0001F4BC\\U0001F527\\U0001F52C\\U0001F680\\U0001F692]|\\U0001F91D\\u200D\\U0001F468[\\U0001F3FB\\U0001F3FC\\U0001F3FE\\U0001F3FF]|[\\U0001F9AF-\\U0001F9B3\\U0001F9BC\\U0001F9BD]))?|\\U0001F3FE(?:\\u200D(?:[\\u2695\\u2696\\u2708]\\uFE0F?|\\u2764\\uFE0F?\\u200D(?:\\U0001F48B\\u200D)?\\U0001F468[\\U0001F3FB-\\U0001F3FF]|[\\U0001F33E\\U0001F373\\U0001F37C\\U0001F393\\U0001F3A4\\U0001F3A8\\U0001F3EB\\U0001F3ED\\U0001F4BB\\U0001F4BC\\U0001F527\\U0001F52C\\U0001F680\\U0001F692]|\\U0001F91D\\u200D\\U0001F468[\\U0001F3FB-\\U0001F3FD\\U0001F3FF]|[\\U0001F9AF-\\U0001F9B3\\U0001F9BC\\U0001F9BD]))?|\\U0001F3FF(?:\\u200D(?:[\\u2695\\u2696\\u2708]\\uFE0F?|\\u2764\\uFE0F?\\u200D(?:\\U0001F48B\\u200D)?\\U0001F468[\\U0001F3FB-\\U0001F3FF]|[\\U0001F33E\\U0001F373\\U0001F37C\\U0001F393\\U0001F3A4\\U0001F3A8\\U0001F3EB\\U0001F3ED\\U0001F4BB\\U0001F4BC\\U0001F527\\U0001F52C\\U0001F680\\U0001F692]|\\U0001F91D\\u200D\\U0001F468[\\U0001F3FB-\\U0001F3FE]|[\\U0001F9AF-\\U0001F9B3\\U0001F9BC\\U0001F9BD]))?)?|\\U0001F469(?:\\u200D(?:[\\u2695\\u2696\\u2708]\\uFE0F?|\\u2764\\uFE0F?\\u200D(?:\\U0001F48B\\u200D)?[\\U0001F468\\U0001F469]|[\\U0001F33E\\U0001F373\\U0001F37C\\U0001F393\\U0001F3A4\\U0001F3A8\\U0001F3EB\\U0001F3ED]|\\U0001F466(?:\\u200D\\U0001F466)?|\\U0001F467(?:\\u200D[\\U0001F466\\U0001F467])?|\\U0001F469\\u200D(?:\\U0001F466(?:\\u200D\\U0001F466)?|\\U0001F467(?:\\u200D[\\U0001F466\\U0001F467])?)|[\\U0001F4BB\\U0001F4BC\\U0001F527\\U0001F52C\\U0001F680\\U0001F692\\U0001F9AF-\\U0001F9B3\\U0001F9BC\\U0001F9BD])|\\U0001F3FB(?:\\u200D(?:[\\u2695\\u2696\\u2708]\\uFE0F?|\\u2764\\uFE0F?\\u200D(?:[\\U0001F468\\U0001F469][\\U0001F3FB-\\U0001F3FF]|\\U0001F48B\\u200D[\\U0001F468\\U0001F469][\\U0001F3FB-\\U0001F3FF])|[\\U0001F33E\\U0001F373\\U0001F37C\\U0001F393\\U0001F3A4\\U0001F3A8\\U0001F3EB\\U0001F3ED\\U0001F4BB\\U0001F4BC\\U0001F527\\U0001F52C\\U0001F680\\U0001F692]|\\U0001F91D\\u200D[\\U0001F468\\U0001F469][\\U0001F3FC-\\U0001F3FF]|[\\U0001F9AF-\\U0001F9B3\\U0001F9BC\\U0001F9BD]))?|\\U0001F3FC(?:\\u200D(?:[\\u2695\\u2696\\u2708]\\uFE0F?|\\u2764\\uFE0F?\\u200D(?:[\\U0001F468\\U0001F469][\\U0001F3FB-\\U0001F3FF]|\\U0001F48B\\u200D[\\U0001F468\\U0001F469][\\U0001F3FB-\\U0001F3FF])|[\\U0001F33E\\U0001F373\\U0001F37C\\U0001F393\\U0001F3A4\\U0001F3A8\\U0001F3EB\\U0001F3ED\\U0001F4BB\\U0001F4BC\\U0001F527\\U0001F52C\\U0001F680\\U0001F692]|\\U0001F91D\\u200D[\\U0001F468\\U0001F469][\\U0001F3FB\\U0001F3FD-\\U0001F3FF]|[\\U0001F9AF-\\U0001F9B3\\U0001F9BC\\U0001F9BD]))?|\\U0001F3FD(?:\\u200D(?:[\\u2695\\u2696\\u2708]\\uFE0F?|\\u2764\\uFE0F?\\u200D(?:[\\U0001F468\\U0001F469][\\U0001F3FB-\\U0001F3FF]|\\U0001F48B\\u200D[\\U0001F468\\U0001F469][\\U0001F3FB-\\U0001F3FF])|[\\U0001F33E\\U0001F373\\U0001F37C\\U0001F393\\U0001F3A4\\U0001F3A8\\U0001F3EB\\U0001F3ED\\U0001F4BB\\U0001F4BC\\U0001F527\\U0001F52C\\U0001F680\\U0001F692]|\\U0001F91D\\u200D[\\U0001F468\\U0001F469][\\U0001F3FB\\U0001F3FC\\U0001F3FE\\U0001F3FF]|[\\U0001F9AF-\\U0001F9B3\\U0001F9BC\\U0001F9BD]))?|\\U0001F3FE(?:\\u200D(?:[\\u2695\\u2696\\u2708]\\uFE0F?|\\u2764\\uFE0F?\\u200D(?:[\\U0001F468\\U0001F469][\\U0001F3FB-\\U0001F3FF]|\\U0001F48B\\u200D[\\U0001F468\\U0001F469][\\U0001F3FB-\\U0001F3FF])|[\\U0001F33E\\U0001F373\\U0001F37C\\U0001F393\\U0001F3A4\\U0001F3A8\\U0001F3EB\\U0001F3ED\\U0001F4BB\\U0001F4BC\\U0001F527\\U0001F52C\\U0001F680\\U0001F692]|\\U0001F91D\\u200D[\\U0001F468\\U0001F469][\\U0001F3FB-\\U0001F3FD\\U0001F3FF]|[\\U0001F9AF-\\U0001F9B3\\U0001F9BC\\U0001F9BD]))?|\\U0001F3FF(?:\\u200D(?:[\\u2695\\u2696\\u2708]\\uFE0F?|\\u2764\\uFE0F?\\u200D(?:[\\U0001F468\\U0001F469][\\U0001F3FB-\\U0001F3FF]|\\U0001F48B\\u200D[\\U0001F468\\U0001F469][\\U0001F3FB-\\U0001F3FF])|[\\U0001F33E\\U0001F373\\U0001F37C\\U0001F393\\U0001F3A4\\U0001F3A8\\U0001F3EB\\U0001F3ED\\U0001F4BB\\U0001F4BC\\U0001F527\\U0001F52C\\U0001F680\\U0001F692]|\\U0001F91D\\u200D[\\U0001F468\\U0001F469][\\U0001F3FB-\\U0001F3FE]|[\\U0001F9AF-\\U0001F9B3\\U0001F9BC\\U0001F9BD]))?)?|\\U0001F46A|[\\U0001F46B-\\U0001F46D][\\U0001F3FB-\\U0001F3FF]?|\\U0001F46E(?:\\u200D[\\u2640\\u2642]\\uFE0F?|[\\U0001F3FB-\\U0001F3FF](?:\\u200D[\\u2640\\u2642]\\uFE0F?)?)?|\\U0001F46F(?:\\u200D[\\u2640\\u2642]\\uFE0F?)?|[\\U0001F470\\U0001F471](?:\\u200D[\\u2640\\u2642]\\uFE0F?|[\\U0001F3FB-\\U0001F3FF](?:\\u200D[\\u2640\\u2642]\\uFE0F?)?)?|\\U0001F472[\\U0001F3FB-\\U0001F3FF]?|\\U0001F473(?:\\u200D[\\u2640\\u2642]\\uFE0F?|[\\U0001F3FB-\\U0001F3FF](?:\\u200D[\\u2640\\u2642]\\uFE0F?)?)?|[\\U0001F474-\\U0001F476][\\U0001F3FB-\\U0001F3FF]?|\\U0001F477(?:\\u200D[\\u2640\\u2642]\\uFE0F?|[\\U0001F3FB-\\U0001F3FF](?:\\u200D[\\u2640\\u2642]\\uFE0F?)?)?|\\U0001F478[\\U0001F3FB-\\U0001F3FF]?|[\\U0001F479-\\U0001F47B]|\\U0001F47C[\\U0001F3FB-\\U0001F3FF]?|[\\U0001F47D-\\U0001F480]|[\\U0001F481\\U0001F482](?:\\u200D[\\u2640\\u2642]\\uFE0F?|[\\U0001F3FB-\\U0001F3FF](?:\\u200D[\\u2640\\u2642]\\uFE0F?)?)?|\\U0001F483[\\U0001F3FB-\\U0001F3FF]?|\\U0001F484|\\U0001F485[\\U0001F3FB-\\U0001F3FF]?|[\\U0001F486\\U0001F487](?:\\u200D[\\u2640\\u2642]\\uFE0F?|[\\U0001F3FB-\\U0001F3FF](?:\\u200D[\\u2640\\u2642]\\uFE0F?)?)?|[\\U0001F488-\\U0001F48E]|\\U0001F48F[\\U0001F3FB-\\U0001F3FF]?|\\U0001F490|\\U0001F491[\\U0001F3FB-\\U0001F3FF]?|[\\U0001F492-\\U0001F4A9]|\\U0001F4AA[\\U0001F3FB-\\U0001F3FF]?|[\\U0001F4AB-\\U0001F4FC]|\\U0001F4FD\\uFE0F?|[\\U0001F4FF-\\U0001F53D]|[\\U0001F549\\U0001F54A]\\uFE0F?|[\\U0001F54B-\\U0001F54E\\U0001F550-\\U0001F567]|[\\U0001F56F\\U0001F570\\U0001F573]\\uFE0F?|\\U0001F574[\\uFE0F\\U0001F3FB-\\U0001F3FF]?|\\U0001F575(?:\\u200D[\\u2640\\u2642]\\uFE0F?|[\\uFE0F\\U0001F3FB-\\U0001F3FF](?:\\u200D[\\u2640\\u2642]\\uFE0F?)?)?|[\\U0001F576-\\U0001F579]\\uFE0F?|\\U0001F57A[\\U0001F3FB-\\U0001F3FF]?|[\\U0001F587\\U0001F58A-\\U0001F58D]\\uFE0F?|\\U0001F590[\\uFE0F\\U0001F3FB-\\U0001F3FF]?|[\\U0001F595\\U0001F596][\\U0001F3FB-\\U0001F3FF]?|\\U0001F5A4|[\\U0001F5A5\\U0001F5A8\\U0001F5B1\\U0001F5B2\\U0001F5BC\\U0001F5C2-\\U0001F5C4\\U0001F5D1-\\U0001F5D3\\U0001F5DC-\\U0001F5DE\\U0001F5E1\\U0001F5E3\\U0001F5E8\\U0001F5EF\\U0001F5F3\\U0001F5FA]\\uFE0F?|[\\U0001F5FB-\\U0001F62D]|\\U0001F62E(?:\\u200D\\U0001F4A8)?|[\\U0001F62F-\\U0001F634]|\\U0001F635(?:\\u200D\\U0001F4AB)?|\\U0001F636(?:\\u200D\\U0001F32B\\uFE0F?)?|[\\U0001F637-\\U0001F644]|[\\U0001F645-\\U0001F647](?:\\u200D[\\u2640\\u2642]\\uFE0F?|[\\U0001F3FB-\\U0001F3FF](?:\\u200D[\\u2640\\u2642]\\uFE0F?)?)?|[\\U0001F648-\\U0001F64A]|\\U0001F64B(?:\\u200D[\\u2640\\u2642]\\uFE0F?|[\\U0001F3FB-\\U0001F3FF](?:\\u200D[\\u2640\\u2642]\\uFE0F?)?)?|\\U0001F64C[\\U0001F3FB-\\U0001F3FF]?|[\\U0001F64D\\U0001F64E](?:\\u200D[\\u2640\\u2642]\\uFE0F?|[\\U0001F3FB-\\U0001F3FF](?:\\u200D[\\u2640\\u2642]\\uFE0F?)?)?|\\U0001F64F[\\U0001F3FB-\\U0001F3FF]?|[\\U0001F680-\\U0001F6A2]|\\U0001F6A3(?:\\u200D[\\u2640\\u2642]\\uFE0F?|[\\U0001F3FB-\\U0001F3FF](?:\\u200D[\\u2640\\u2642]\\uFE0F?)?)?|[\\U0001F6A4-\\U0001F6B3]|[\\U0001F6B4-\\U0001F6B6](?:\\u200D[\\u2640\\u2642]\\uFE0F?|[\\U0001F3FB-\\U0001F3FF](?:\\u200D[\\u2640\\u2642]\\uFE0F?)?)?|[\\U0001F6B7-\\U0001F6BF]|\\U0001F6C0[\\U0001F3FB-\\U0001F3FF]?|[\\U0001F6C1-\\U0001F6C5]|\\U0001F6CB\\uFE0F?|\\U0001F6CC[\\U0001F3FB-\\U0001F3FF]?|[\\U0001F6CD-\\U0001F6CF]\\uFE0F?|[\\U0001F6D0-\\U0001F6D2\\U0001F6D5-\\U0001F6D7\\U0001F6DD-\\U0001F6DF]|[\\U0001F6E0-\\U0001F6E5\\U0001F6E9]\\uFE0F?|[\\U0001F6EB\\U0001F6EC]|[\\U0001F6F0\\U0001F6F3]\\uFE0F?|[\\U0001F6F4-\\U0001F6FC\\U0001F7E0-\\U0001F7EB\\U0001F7F0]|\\U0001F90C[\\U0001F3FB-\\U0001F3FF]?|[\\U0001F90D\\U0001F90E]|\\U0001F90F[\\U0001F3FB-\\U0001F3FF]?|[\\U0001F910-\\U0001F917]|[\\U0001F918-\\U0001F91F][\\U0001F3FB-\\U0001F3FF]?|[\\U0001F920-\\U0001F925]|\\U0001F926(?:\\u200D[\\u2640\\u2642]\\uFE0F?|[\\U0001F3FB-\\U0001F3FF](?:\\u200D[\\u2640\\u2642]\\uFE0F?)?)?|[\\U0001F927-\\U0001F92F]|[\\U0001F930-\\U0001F934][\\U0001F3FB-\\U0001F3FF]?|\\U0001F935(?:\\u200D[\\u2640\\u2642]\\uFE0F?|[\\U0001F3FB-\\U0001F3FF](?:\\u200D[\\u2640\\u2642]\\uFE0F?)?)?|\\U0001F936[\\U0001F3FB-\\U0001F3FF]?|[\\U0001F937-\\U0001F939](?:\\u200D[\\u2640\\u2642]\\uFE0F?|[\\U0001F3FB-\\U0001F3FF](?:\\u200D[\\u2640\\u2642]\\uFE0F?)?)?|\\U0001F93A|\\U0001F93C(?:\\u200D[\\u2640\\u2642]\\uFE0F?)?|[\\U0001F93D\\U0001F93E](?:\\u200D[\\u2640\\u2642]\\uFE0F?|[\\U0001F3FB-\\U0001F3FF](?:\\u200D[\\u2640\\u2642]\\uFE0F?)?)?|[\\U0001F93F-\\U0001F945\\U0001F947-\\U0001F976]|\\U0001F977[\\U0001F3FB-\\U0001F3FF]?|[\\U0001F978-\\U0001F9B4]|[\\U0001F9B5\\U0001F9B6][\\U0001F3FB-\\U0001F3FF]?|\\U0001F9B7|[\\U0001F9B8\\U0001F9B9](?:\\u200D[\\u2640\\u2642]\\uFE0F?|[\\U0001F3FB-\\U0001F3FF](?:\\u200D[\\u2640\\u2642]\\uFE0F?)?)?|\\U0001F9BA|\\U0001F9BB[\\U0001F3FB-\\U0001F3FF]?|[\\U0001F9BC-\\U0001F9CC]|[\\U0001F9CD-\\U0001F9CF](?:\\u200D[\\u2640\\u2642]\\uFE0F?|[\\U0001F3FB-\\U0001F3FF](?:\\u200D[\\u2640\\u2642]\\uFE0F?)?)?|\\U0001F9D0|\\U0001F9D1(?:\\u200D(?:[\\u2695\\u2696\\u2708]\\uFE0F?|[\\U0001F33E\\U0001F373\\U0001F37C\\U0001F384\\U0001F393\\U0001F3A4\\U0001F3A8\\U0001F3EB\\U0001F3ED\\U0001F4BB\\U0001F4BC\\U0001F527\\U0001F52C\\U0001F680\\U0001F692]|\\U0001F91D\\u200D\\U0001F9D1|[\\U0001F9AF-\\U0001F9B3\\U0001F9BC\\U0001F9BD])|\\U0001F3FB(?:\\u200D(?:[\\u2695\\u2696\\u2708]\\uFE0F?|\\u2764\\uFE0F?\\u200D(?:\\U0001F48B\\u200D|)\\U0001F9D1[\\U0001F3FC-\\U0001F3FF]|[\\U0001F33E\\U0001F373\\U0001F37C\\U0001F384\\U0001F393\\U0001F3A4\\U0001F3A8\\U0001F3EB\\U0001F3ED\\U0001F4BB\\U0001F4BC\\U0001F527\\U0001F52C\\U0001F680\\U0001F692]|\\U0001F91D\\u200D\\U0001F9D1[\\U0001F3FB-\\U0001F3FF]|[\\U0001F9AF-\\U0001F9B3\\U0001F9BC\\U0001F9BD]))?|\\U0001F3FC(?:\\u200D(?:[\\u2695\\u2696\\u2708]\\uFE0F?|\\u2764\\uFE0F?\\u200D(?:\\U0001F48B\\u200D|)\\U0001F9D1[\\U0001F3FB\\U0001F3FD-\\U0001F3FF]|[\\U0001F33E\\U0001F373\\U0001F37C\\U0001F384\\U0001F393\\U0001F3A4\\U0001F3A8\\U0001F3EB\\U0001F3ED\\U0001F4BB\\U0001F4BC\\U0001F527\\U0001F52C\\U0001F680\\U0001F692]|\\U0001F91D\\u200D\\U0001F9D1[\\U0001F3FB-\\U0001F3FF]|[\\U0001F9AF-\\U0001F9B3\\U0001F9BC\\U0001F9BD]))?|\\U0001F3FD(?:\\u200D(?:[\\u2695\\u2696\\u2708]\\uFE0F?|\\u2764\\uFE0F?\\u200D(?:\\U0001F48B\\u200D|)\\U0001F9D1[\\U0001F3FB\\U0001F3FC\\U0001F3FE\\U0001F3FF]|[\\U0001F33E\\U0001F373\\U0001F37C\\U0001F384\\U0001F393\\U0001F3A4\\U0001F3A8\\U0001F3EB\\U0001F3ED\\U0001F4BB\\U0001F4BC\\U0001F527\\U0001F52C\\U0001F680\\U0001F692]|\\U0001F91D\\u200D\\U0001F9D1[\\U0001F3FB-\\U0001F3FF]|[\\U0001F9AF-\\U0001F9B3\\U0001F9BC\\U0001F9BD]))?|\\U0001F3FE(?:\\u200D(?:[\\u2695\\u2696\\u2708]\\uFE0F?|\\u2764\\uFE0F?\\u200D(?:\\U0001F48B\\u200D|)\\U0001F9D1[\\U0001F3FB-\\U0001F3FD\\U0001F3FF]|[\\U0001F33E\\U0001F373\\U0001F37C\\U0001F384\\U0001F393\\U0001F3A4\\U0001F3A8\\U0001F3EB\\U0001F3ED\\U0001F4BB\\U0001F4BC\\U0001F527\\U0001F52C\\U0001F680\\U0001F692]|\\U0001F91D\\u200D\\U0001F9D1[\\U0001F3FB-\\U0001F3FF]|[\\U0001F9AF-\\U0001F9B3\\U0001F9BC\\U0001F9BD]))?|\\U0001F3FF(?:\\u200D(?:[\\u2695\\u2696\\u2708]\\uFE0F?|\\u2764\\uFE0F?\\u200D(?:\\U0001F48B\\u200D|)\\U0001F9D1[\\U0001F3FB-\\U0001F3FE]|[\\U0001F33E\\U0001F373\\U0001F37C\\U0001F384\\U0001F393\\U0001F3A4\\U0001F3A8\\U0001F3EB\\U0001F3ED\\U0001F4BB\\U0001F4BC\\U0001F527\\U0001F52C\\U0001F680\\U0001F692]|\\U0001F91D\\u200D\\U0001F9D1[\\U0001F3FB-\\U0001F3FF]|[\\U0001F9AF-\\U0001F9B3\\U0001F9BC\\U0001F9BD]))?)?|[\\U0001F9D2\\U0001F9D3][\\U0001F3FB-\\U0001F3FF]?|\\U0001F9D4(?:\\u200D[\\u2640\\u2642]\\uFE0F?|[\\U0001F3FB-\\U0001F3FF](?:\\u200D[\\u2640\\u2642]\\uFE0F?)?)?|\\U0001F9D5[\\U0001F3FB-\\U0001F3FF]?|[\\U0001F9D6-\\U0001F9DD](?:\\u200D[\\u2640\\u2642]\\uFE0F?|[\\U0001F3FB-\\U0001F3FF](?:\\u200D[\\u2640\\u2642]\\uFE0F?)?)?|[\\U0001F9DE\\U0001F9DF](?:\\u200D[\\u2640\\u2642]\\uFE0F?)?|[\\U0001F9E0-\\U0001F9FF\\U0001FA70-\\U0001FA74\\U0001FA78-\\U0001FA7C\\U0001FA80-\\U0001FA86\\U0001FA90-\\U0001FAAC\\U0001FAB0-\\U0001FABA\\U0001FAC0-\\U0001FAC2]|[\\U0001FAC3-\\U0001FAC5][\\U0001F3FB-\\U0001F3FF]?|[\\U0001FAD0-\\U0001FAD9\\U0001FAE0-\\U0001FAE7]|\\U0001FAF0[\\U0001F3FB-\\U0001F3FF]?|\\U0001FAF1(?:\\U0001F3FB(?:\\u200D\\U0001FAF2[\\U0001F3FC-\\U0001F3FF])?|\\U0001F3FC(?:\\u200D\\U0001FAF2[\\U0001F3FB\\U0001F3FD-\\U0001F3FF])?|\\U0001F3FD(?:\\u200D\\U0001FAF2[\\U0001F3FB\\U0001F3FC\\U0001F3FE\\U0001F3FF])?|\\U0001F3FE(?:\\u200D\\U0001FAF2[\\U0001F3FB-\\U0001F3FD\\U0001F3FF])?|\\U0001F3FF(?:\\u200D\\U0001FAF2[\\U0001F3FB-\\U0001F3FE])?)?|[\\U0001FAF2-\\U0001FAF6][\\U0001F3FB-\\U0001F3FF]?\"\n",
    "extract_emoji = re.compile(emoji_rx)"
   ]
  },
  {
   "cell_type": "markdown",
   "metadata": {
    "id": "7f0rXszBhelq"
   },
   "source": [
    "## Emoji Sentiment Analysis"
   ]
  },
  {
   "cell_type": "code",
   "execution_count": 41,
   "metadata": {
    "id": "7_CmKRgnhnmD"
   },
   "outputs": [],
   "source": [
    "#PPN\n",
    "for idx, text in enumerate(PPN_emo['text']):\n",
    "    tmp = extract_emoji.findall(text)   # generates a list of emoji's present in the post\n",
    "    \n",
    "    for emoji in tmp:\n",
    "        if emoji in positive_emoji:\n",
    "            PPN_emo.at[idx, 'positive_emoji'] += 1\n",
    "        elif emoji in negative_emoji:\n",
    "            PPN_emo.at[idx, 'negative_emoji'] += 1\n",
    "        else:\n",
    "            PPN_emo.at[idx, 'neutral_emoji'] += 1"
   ]
  },
  {
   "cell_type": "code",
   "execution_count": 42,
   "metadata": {
    "id": "BptDUeLjhpLT"
   },
   "outputs": [],
   "source": [
    "#MS\n",
    "for idx, text in enumerate(MS_emo['text']):\n",
    "    tmp = extract_emoji.findall(text)   # generates a list of emoji's present in the post\n",
    "    \n",
    "    for emoji in tmp:\n",
    "        if emoji in positive_emoji:\n",
    "            MS_emo.at[idx, 'positive_emoji'] += 1\n",
    "        elif emoji in negative_emoji:\n",
    "            MS_emo.at[idx, 'negative_emoji'] += 1\n",
    "        else:\n",
    "            MS_emo.at[idx, 'neutral_emoji'] += 1"
   ]
  },
  {
   "cell_type": "code",
   "execution_count": 43,
   "metadata": {
    "id": "ho297WNklwiF"
   },
   "outputs": [],
   "source": [
    "PPN_emo = PPN_emo.drop('text', axis = 1)\n",
    "MS_emo = MS_emo.drop('text', axis = 1)"
   ]
  },
  {
   "cell_type": "code",
   "execution_count": 44,
   "metadata": {
    "colab": {
     "base_uri": "https://localhost:8080/"
    },
    "id": "BIv7vhIlfa4u",
    "outputId": "33395a6a-13f5-4b4b-8201-07eaca5847d1"
   },
   "outputs": [
    {
     "data": {
      "text/html": [
       "<div>\n",
       "<style scoped>\n",
       "    .dataframe tbody tr th:only-of-type {\n",
       "        vertical-align: middle;\n",
       "    }\n",
       "\n",
       "    .dataframe tbody tr th {\n",
       "        vertical-align: top;\n",
       "    }\n",
       "\n",
       "    .dataframe thead th {\n",
       "        text-align: right;\n",
       "    }\n",
       "</style>\n",
       "<table border=\"1\" class=\"dataframe\">\n",
       "  <thead>\n",
       "    <tr style=\"text-align: right;\">\n",
       "      <th></th>\n",
       "      <th>positive_emoji</th>\n",
       "      <th>neutral_emoji</th>\n",
       "      <th>negative_emoji</th>\n",
       "    </tr>\n",
       "  </thead>\n",
       "  <tbody>\n",
       "    <tr>\n",
       "      <th>0</th>\n",
       "      <td>1</td>\n",
       "      <td>1</td>\n",
       "      <td>0</td>\n",
       "    </tr>\n",
       "    <tr>\n",
       "      <th>1</th>\n",
       "      <td>1</td>\n",
       "      <td>0</td>\n",
       "      <td>0</td>\n",
       "    </tr>\n",
       "    <tr>\n",
       "      <th>2</th>\n",
       "      <td>1</td>\n",
       "      <td>1</td>\n",
       "      <td>0</td>\n",
       "    </tr>\n",
       "    <tr>\n",
       "      <th>3</th>\n",
       "      <td>1</td>\n",
       "      <td>1</td>\n",
       "      <td>0</td>\n",
       "    </tr>\n",
       "    <tr>\n",
       "      <th>4</th>\n",
       "      <td>2</td>\n",
       "      <td>1</td>\n",
       "      <td>0</td>\n",
       "    </tr>\n",
       "  </tbody>\n",
       "</table>\n",
       "</div>"
      ],
      "text/plain": [
       "   positive_emoji  neutral_emoji  negative_emoji\n",
       "0               1              1               0\n",
       "1               1              0               0\n",
       "2               1              1               0\n",
       "3               1              1               0\n",
       "4               2              1               0"
      ]
     },
     "execution_count": 44,
     "metadata": {},
     "output_type": "execute_result"
    }
   ],
   "source": [
    "PPN_emo.head()"
   ]
  },
  {
   "cell_type": "code",
   "execution_count": 45,
   "metadata": {
    "id": "h2znPjR8otjL"
   },
   "outputs": [],
   "source": [
    "PPN_emo_sum = pd.DataFrame(PPN_emo.sum()).reset_index()\n",
    "MS_emo_sum = pd.DataFrame(MS_emo.sum()).reset_index()\n",
    "\n",
    "PPN_emo_sum.columns = ['Sentiment','Sum']\n",
    "MS_emo_sum.columns = ['Sentiment','Sum']"
   ]
  },
  {
   "cell_type": "markdown",
   "metadata": {
    "id": "KyMWoKyUO9Cn"
   },
   "source": [
    "## Text Sentiment Analysis"
   ]
  },
  {
   "cell_type": "markdown",
   "metadata": {
    "id": "UAt1qUcl_aVE"
   },
   "source": [
    "### PPN"
   ]
  },
  {
   "cell_type": "code",
   "execution_count": 46,
   "metadata": {
    "colab": {
     "base_uri": "https://localhost:8080/",
     "height": 424
    },
    "id": "7MIOs2nyjY41",
    "outputId": "6a0d79d9-b9da-4c2d-e96a-49ba7d7d48ba"
   },
   "outputs": [
    {
     "data": {
      "text/html": [
       "<div>\n",
       "<style scoped>\n",
       "    .dataframe tbody tr th:only-of-type {\n",
       "        vertical-align: middle;\n",
       "    }\n",
       "\n",
       "    .dataframe tbody tr th {\n",
       "        vertical-align: top;\n",
       "    }\n",
       "\n",
       "    .dataframe thead th {\n",
       "        text-align: right;\n",
       "    }\n",
       "</style>\n",
       "<table border=\"1\" class=\"dataframe\">\n",
       "  <thead>\n",
       "    <tr style=\"text-align: right;\">\n",
       "      <th></th>\n",
       "      <th>text</th>\n",
       "      <th>text_token</th>\n",
       "      <th>text_string</th>\n",
       "    </tr>\n",
       "  </thead>\n",
       "  <tbody>\n",
       "    <tr>\n",
       "      <th>0</th>\n",
       "      <td>if you just believe in your wildest dreams the...</td>\n",
       "      <td>[believe, wildest, dreams, would, come, true]</td>\n",
       "      <td>believe wildest dreams would come true</td>\n",
       "    </tr>\n",
       "    <tr>\n",
       "      <th>1</th>\n",
       "      <td>yes excellent drag taste indeed! ♥️</td>\n",
       "      <td>[yes, excellent, drag, taste, indeed]</td>\n",
       "      <td>yes excellent drag taste indeed</td>\n",
       "    </tr>\n",
       "    <tr>\n",
       "      <th>2</th>\n",
       "      <td>sissy that walk, queen  👑❤️</td>\n",
       "      <td>[sissy, walk, queen]</td>\n",
       "      <td>sissy walk queen</td>\n",
       "    </tr>\n",
       "    <tr>\n",
       "      <th>3</th>\n",
       "      <td>sharing the same vibe means you’re in the best...</td>\n",
       "      <td>[sharing, vibe, means, best, squad, thank, bab...</td>\n",
       "      <td>sharing vibe means best squad thank babies sup...</td>\n",
       "    </tr>\n",
       "    <tr>\n",
       "      <th>4</th>\n",
       "      <td>no wonder why you are crowned as drph supersta...</td>\n",
       "      <td>[wonder, crowned, drph, superstar, queen, touc...</td>\n",
       "      <td>wonder crowned drph superstar queen touch ever...</td>\n",
       "    </tr>\n",
       "    <tr>\n",
       "      <th>...</th>\n",
       "      <td>...</td>\n",
       "      <td>...</td>\n",
       "      <td>...</td>\n",
       "    </tr>\n",
       "    <tr>\n",
       "      <th>795</th>\n",
       "      <td>lapit na finale omg! pero sana whatever the re...</td>\n",
       "      <td>[lapit, na, finale, omg, pero, sana, whatever,...</td>\n",
       "      <td>lapit finale omg pero sana whatever result sta...</td>\n",
       "    </tr>\n",
       "    <tr>\n",
       "      <th>796</th>\n",
       "      <td>my heart 🥺🥺🥺\\n \\n \\n</td>\n",
       "      <td>[heart]</td>\n",
       "      <td>heart</td>\n",
       "    </tr>\n",
       "    <tr>\n",
       "      <th>797</th>\n",
       "      <td>divine energy!!!! \\n \\n \\n</td>\n",
       "      <td>[divine, energy]</td>\n",
       "      <td>divine energy</td>\n",
       "    </tr>\n",
       "    <tr>\n",
       "      <th>798</th>\n",
       "      <td>okaaay. changed our wifi pw to</td>\n",
       "      <td>[okaaay, changed, wifi, pw]</td>\n",
       "      <td>okaaay changed wifi</td>\n",
       "    </tr>\n",
       "    <tr>\n",
       "      <th>799</th>\n",
       "      <td>finale this wednesday! let's talk about it!! ...</td>\n",
       "      <td>[finale, wednesday, let, talk, kaninong, team,...</td>\n",
       "      <td>finale wednesday let talk kaninong team kayo</td>\n",
       "    </tr>\n",
       "  </tbody>\n",
       "</table>\n",
       "<p>800 rows × 3 columns</p>\n",
       "</div>"
      ],
      "text/plain": [
       "                                                  text  \\\n",
       "0    if you just believe in your wildest dreams the...   \n",
       "1                  yes excellent drag taste indeed! ♥️   \n",
       "2                    sissy that walk, queen  👑❤️         \n",
       "3    sharing the same vibe means you’re in the best...   \n",
       "4    no wonder why you are crowned as drph supersta...   \n",
       "..                                                 ...   \n",
       "795  lapit na finale omg! pero sana whatever the re...   \n",
       "796                              my heart 🥺🥺🥺\\n \\n \\n    \n",
       "797                        divine energy!!!! \\n \\n \\n    \n",
       "798                 okaaay. changed our wifi pw to       \n",
       "799   finale this wednesday! let's talk about it!! ...   \n",
       "\n",
       "                                            text_token  \\\n",
       "0        [believe, wildest, dreams, would, come, true]   \n",
       "1                [yes, excellent, drag, taste, indeed]   \n",
       "2                                 [sissy, walk, queen]   \n",
       "3    [sharing, vibe, means, best, squad, thank, bab...   \n",
       "4    [wonder, crowned, drph, superstar, queen, touc...   \n",
       "..                                                 ...   \n",
       "795  [lapit, na, finale, omg, pero, sana, whatever,...   \n",
       "796                                            [heart]   \n",
       "797                                   [divine, energy]   \n",
       "798                        [okaaay, changed, wifi, pw]   \n",
       "799  [finale, wednesday, let, talk, kaninong, team,...   \n",
       "\n",
       "                                           text_string  \n",
       "0               believe wildest dreams would come true  \n",
       "1                      yes excellent drag taste indeed  \n",
       "2                                     sissy walk queen  \n",
       "3    sharing vibe means best squad thank babies sup...  \n",
       "4    wonder crowned drph superstar queen touch ever...  \n",
       "..                                                 ...  \n",
       "795  lapit finale omg pero sana whatever result sta...  \n",
       "796                                              heart  \n",
       "797                                      divine energy  \n",
       "798                                okaaay changed wifi  \n",
       "799       finale wednesday let talk kaninong team kayo  \n",
       "\n",
       "[800 rows x 3 columns]"
      ]
     },
     "execution_count": 46,
     "metadata": {},
     "output_type": "execute_result"
    }
   ],
   "source": [
    "PPN_SA = PPN.copy()\n",
    "\n",
    "PPN_SA['text'] = PPN_SA['text'].astype(str).str.lower()\n",
    "regexp = RegexpTokenizer('\\w+')\n",
    "\n",
    "PPN_SA['text_token']=PPN_SA['text'].apply(regexp.tokenize)\n",
    "\n",
    "# Make a list of english stopwords\n",
    "stopwords = nltk.corpus.stopwords.words(\"english\")\n",
    "\n",
    "# Extend the list with your own custom stopwords\n",
    "my_stopwords = ['https']\n",
    "stopwords.extend(my_stopwords)\n",
    "\n",
    "\n",
    "PPN_SA['text_token'] = PPN_SA['text_token'].apply(lambda x: [item for item in x if item not in stopwords])\n",
    "PPN_SA['text_string'] = PPN_SA['text_token'].apply(lambda x: ' '.join([item for item in x if len(item)>2]))\n",
    "\n",
    "PPN_SA[['text', 'text_token', 'text_string']]"
   ]
  },
  {
   "cell_type": "code",
   "execution_count": 47,
   "metadata": {
    "colab": {
     "base_uri": "https://localhost:8080/",
     "height": 206
    },
    "id": "2b942C8pjuUy",
    "outputId": "0df58fa0-d5c6-420c-c911-9741f363b05a"
   },
   "outputs": [
    {
     "data": {
      "text/html": [
       "<div>\n",
       "<style scoped>\n",
       "    .dataframe tbody tr th:only-of-type {\n",
       "        vertical-align: middle;\n",
       "    }\n",
       "\n",
       "    .dataframe tbody tr th {\n",
       "        vertical-align: top;\n",
       "    }\n",
       "\n",
       "    .dataframe thead th {\n",
       "        text-align: right;\n",
       "    }\n",
       "</style>\n",
       "<table border=\"1\" class=\"dataframe\">\n",
       "  <thead>\n",
       "    <tr style=\"text-align: right;\">\n",
       "      <th></th>\n",
       "      <th>text</th>\n",
       "      <th>text_token</th>\n",
       "      <th>text_string</th>\n",
       "      <th>text_string_fdist</th>\n",
       "    </tr>\n",
       "  </thead>\n",
       "  <tbody>\n",
       "    <tr>\n",
       "      <th>795</th>\n",
       "      <td>lapit na finale omg! pero sana whatever the re...</td>\n",
       "      <td>[lapit, na, finale, omg, pero, sana, whatever,...</td>\n",
       "      <td>lapit finale omg pero sana whatever result sta...</td>\n",
       "      <td>lapit na finale omg pero sana whatever result ...</td>\n",
       "    </tr>\n",
       "    <tr>\n",
       "      <th>796</th>\n",
       "      <td>my heart 🥺🥺🥺\\n \\n \\n</td>\n",
       "      <td>[heart]</td>\n",
       "      <td>heart</td>\n",
       "      <td>heart</td>\n",
       "    </tr>\n",
       "    <tr>\n",
       "      <th>797</th>\n",
       "      <td>divine energy!!!! \\n \\n \\n</td>\n",
       "      <td>[divine, energy]</td>\n",
       "      <td>divine energy</td>\n",
       "      <td>divine energy</td>\n",
       "    </tr>\n",
       "    <tr>\n",
       "      <th>798</th>\n",
       "      <td>okaaay. changed our wifi pw to</td>\n",
       "      <td>[okaaay, changed, wifi, pw]</td>\n",
       "      <td>okaaay changed wifi</td>\n",
       "      <td>okaaay changed wifi</td>\n",
       "    </tr>\n",
       "    <tr>\n",
       "      <th>799</th>\n",
       "      <td>finale this wednesday! let's talk about it!! ...</td>\n",
       "      <td>[finale, wednesday, let, talk, kaninong, team,...</td>\n",
       "      <td>finale wednesday let talk kaninong team kayo</td>\n",
       "      <td>finale wednesday let talk kaninong team kayo</td>\n",
       "    </tr>\n",
       "  </tbody>\n",
       "</table>\n",
       "</div>"
      ],
      "text/plain": [
       "                                                  text  \\\n",
       "795  lapit na finale omg! pero sana whatever the re...   \n",
       "796                              my heart 🥺🥺🥺\\n \\n \\n    \n",
       "797                        divine energy!!!! \\n \\n \\n    \n",
       "798                 okaaay. changed our wifi pw to       \n",
       "799   finale this wednesday! let's talk about it!! ...   \n",
       "\n",
       "                                            text_token  \\\n",
       "795  [lapit, na, finale, omg, pero, sana, whatever,...   \n",
       "796                                            [heart]   \n",
       "797                                   [divine, energy]   \n",
       "798                        [okaaay, changed, wifi, pw]   \n",
       "799  [finale, wednesday, let, talk, kaninong, team,...   \n",
       "\n",
       "                                           text_string  \\\n",
       "795  lapit finale omg pero sana whatever result sta...   \n",
       "796                                              heart   \n",
       "797                                      divine energy   \n",
       "798                                okaaay changed wifi   \n",
       "799       finale wednesday let talk kaninong team kayo   \n",
       "\n",
       "                                     text_string_fdist  \n",
       "795  lapit na finale omg pero sana whatever result ...  \n",
       "796                                              heart  \n",
       "797                                      divine energy  \n",
       "798                                okaaay changed wifi  \n",
       "799       finale wednesday let talk kaninong team kayo  "
      ]
     },
     "execution_count": 47,
     "metadata": {},
     "output_type": "execute_result"
    }
   ],
   "source": [
    "all_words = ' '.join([word for word in PPN_SA['text_string']])\n",
    "tokenized_words = nltk.tokenize.word_tokenize(all_words)\n",
    "\n",
    "fdist = FreqDist(tokenized_words)\n",
    "\n",
    "PPN_SA['text_string_fdist'] = PPN_SA['text_token'].apply(lambda x: ' '.join([item for item in x if fdist[item] >= 1 ]))\n",
    "PPN_SA[['text', 'text_token', 'text_string', 'text_string_fdist']].tail()"
   ]
  },
  {
   "cell_type": "code",
   "execution_count": 48,
   "metadata": {
    "colab": {
     "base_uri": "https://localhost:8080/"
    },
    "id": "YWsxw6pckdk5",
    "outputId": "4aa60e18-f686-4491-87c5-b0319d4f5515"
   },
   "outputs": [
    {
     "data": {
      "text/plain": [
       "True     787\n",
       "False     13\n",
       "Name: is_equal, dtype: int64"
      ]
     },
     "execution_count": 48,
     "metadata": {},
     "output_type": "execute_result"
    }
   ],
   "source": [
    "\n",
    "wordnet_lem = WordNetLemmatizer()\n",
    "\n",
    "PPN_SA['text_string_lem'] = PPN_SA['text_string_fdist'].apply(wordnet_lem.lemmatize)\n",
    "\n",
    "# check if the columns are equal\n",
    "PPN_SA['is_equal']= (PPN_SA['text_string_fdist']==PPN_SA['text_string_lem'])\n",
    "# show level count\n",
    "PPN_SA.is_equal.value_counts()"
   ]
  },
  {
   "cell_type": "code",
   "execution_count": 52,
   "metadata": {
    "colab": {
     "base_uri": "https://localhost:8080/",
     "height": 531
    },
    "id": "FSFrpdxnlLYy",
    "outputId": "7e9d8cbf-9cd9-4e93-ec6b-029d2a36714b"
   },
   "outputs": [
    {
     "data": {
      "text/html": [
       "<div>\n",
       "<style scoped>\n",
       "    .dataframe tbody tr th:only-of-type {\n",
       "        vertical-align: middle;\n",
       "    }\n",
       "\n",
       "    .dataframe tbody tr th {\n",
       "        vertical-align: top;\n",
       "    }\n",
       "\n",
       "    .dataframe thead th {\n",
       "        text-align: right;\n",
       "    }\n",
       "</style>\n",
       "<table border=\"1\" class=\"dataframe\">\n",
       "  <thead>\n",
       "    <tr style=\"text-align: right;\">\n",
       "      <th></th>\n",
       "      <th>user_name</th>\n",
       "      <th>date</th>\n",
       "      <th>text</th>\n",
       "      <th>Date</th>\n",
       "      <th>Time</th>\n",
       "      <th>split</th>\n",
       "      <th>hashtags</th>\n",
       "      <th>text_token</th>\n",
       "      <th>text_string</th>\n",
       "      <th>text_string_fdist</th>\n",
       "      <th>text_string_lem</th>\n",
       "      <th>is_equal</th>\n",
       "      <th>neg</th>\n",
       "      <th>neu</th>\n",
       "      <th>pos</th>\n",
       "      <th>compound</th>\n",
       "      <th>sentiment</th>\n",
       "    </tr>\n",
       "  </thead>\n",
       "  <tbody>\n",
       "    <tr>\n",
       "      <th>795</th>\n",
       "      <td>kakaibabe nina ❤️</td>\n",
       "      <td>2022-10-10 13:16:59+00:00</td>\n",
       "      <td>lapit na finale omg! pero sana whatever the re...</td>\n",
       "      <td>2022-10-10</td>\n",
       "      <td>13:16:59</td>\n",
       "      <td>[LAPIT, NA, FINALE, OMG!, pero, sana, whatever...</td>\n",
       "      <td>[]</td>\n",
       "      <td>[lapit, na, finale, omg, pero, sana, whatever,...</td>\n",
       "      <td>lapit finale omg pero sana whatever result sta...</td>\n",
       "      <td>lapit na finale omg pero sana whatever result ...</td>\n",
       "      <td>lapit na finale omg pero sana whatever result ...</td>\n",
       "      <td>True</td>\n",
       "      <td>0.0</td>\n",
       "      <td>0.686</td>\n",
       "      <td>0.314</td>\n",
       "      <td>0.7506</td>\n",
       "      <td>positive</td>\n",
       "    </tr>\n",
       "    <tr>\n",
       "      <th>796</th>\n",
       "      <td>kakaibabe bless ❤️</td>\n",
       "      <td>2022-10-10 13:06:58+00:00</td>\n",
       "      <td>my heart 🥺🥺🥺\\n \\n \\n</td>\n",
       "      <td>2022-10-10</td>\n",
       "      <td>13:06:58</td>\n",
       "      <td>[my, heart, 🥺🥺🥺\\n#TeamPrecious\\n#TeamPreciousP...</td>\n",
       "      <td>[]</td>\n",
       "      <td>[heart]</td>\n",
       "      <td>heart</td>\n",
       "      <td>heart</td>\n",
       "      <td>heart</td>\n",
       "      <td>True</td>\n",
       "      <td>0.0</td>\n",
       "      <td>1.000</td>\n",
       "      <td>0.000</td>\n",
       "      <td>0.0000</td>\n",
       "      <td>neutral</td>\n",
       "    </tr>\n",
       "    <tr>\n",
       "      <th>797</th>\n",
       "      <td>Fay #TeamPrecious Tan</td>\n",
       "      <td>2022-10-10 12:56:44+00:00</td>\n",
       "      <td>divine energy!!!! \\n \\n \\n</td>\n",
       "      <td>2022-10-10</td>\n",
       "      <td>12:56:44</td>\n",
       "      <td>[DIVINE, ENERGY!!!!, \\n#TeamPrecious\\n#Preciou...</td>\n",
       "      <td>[]</td>\n",
       "      <td>[divine, energy]</td>\n",
       "      <td>divine energy</td>\n",
       "      <td>divine energy</td>\n",
       "      <td>divine energy</td>\n",
       "      <td>True</td>\n",
       "      <td>0.0</td>\n",
       "      <td>0.000</td>\n",
       "      <td>1.000</td>\n",
       "      <td>0.6908</td>\n",
       "      <td>positive</td>\n",
       "    </tr>\n",
       "    <tr>\n",
       "      <th>798</th>\n",
       "      <td>alyssa</td>\n",
       "      <td>2022-10-10 12:36:09+00:00</td>\n",
       "      <td>okaaay. changed our wifi pw to</td>\n",
       "      <td>2022-10-10</td>\n",
       "      <td>12:36:09</td>\n",
       "      <td>[okaaay., changed, our, wifi, pw, to, #TeamPre...</td>\n",
       "      <td>[TeamPreciousPaulaNicole, TeamPrecious, Precio...</td>\n",
       "      <td>[okaaay, changed, wifi, pw]</td>\n",
       "      <td>okaaay changed wifi</td>\n",
       "      <td>okaaay changed wifi</td>\n",
       "      <td>okaaay changed wifi</td>\n",
       "      <td>True</td>\n",
       "      <td>0.0</td>\n",
       "      <td>1.000</td>\n",
       "      <td>0.000</td>\n",
       "      <td>0.0000</td>\n",
       "      <td>neutral</td>\n",
       "    </tr>\n",
       "    <tr>\n",
       "      <th>799</th>\n",
       "      <td>Christian Rosales Arizala</td>\n",
       "      <td>2022-10-10 12:30:33+00:00</td>\n",
       "      <td>finale this wednesday! let's talk about it!! ...</td>\n",
       "      <td>2022-10-10</td>\n",
       "      <td>12:30:33</td>\n",
       "      <td>[, FINALE, THIS, WEDNESDAY!, Let's, talk, abou...</td>\n",
       "      <td>[TeamMarinaSummers,,TeamPreciousPaulaNicole,Te...</td>\n",
       "      <td>[finale, wednesday, let, talk, kaninong, team,...</td>\n",
       "      <td>finale wednesday let talk kaninong team kayo</td>\n",
       "      <td>finale wednesday let talk kaninong team kayo</td>\n",
       "      <td>finale wednesday let talk kaninong team kayo</td>\n",
       "      <td>True</td>\n",
       "      <td>0.0</td>\n",
       "      <td>1.000</td>\n",
       "      <td>0.000</td>\n",
       "      <td>0.0000</td>\n",
       "      <td>neutral</td>\n",
       "    </tr>\n",
       "  </tbody>\n",
       "</table>\n",
       "</div>"
      ],
      "text/plain": [
       "                     user_name                       date  \\\n",
       "795          kakaibabe nina ❤️  2022-10-10 13:16:59+00:00   \n",
       "796         kakaibabe bless ❤️  2022-10-10 13:06:58+00:00   \n",
       "797      Fay #TeamPrecious Tan  2022-10-10 12:56:44+00:00   \n",
       "798                     alyssa  2022-10-10 12:36:09+00:00   \n",
       "799  Christian Rosales Arizala  2022-10-10 12:30:33+00:00   \n",
       "\n",
       "                                                  text        Date      Time  \\\n",
       "795  lapit na finale omg! pero sana whatever the re...  2022-10-10  13:16:59   \n",
       "796                              my heart 🥺🥺🥺\\n \\n \\n   2022-10-10  13:06:58   \n",
       "797                        divine energy!!!! \\n \\n \\n   2022-10-10  12:56:44   \n",
       "798                 okaaay. changed our wifi pw to      2022-10-10  12:36:09   \n",
       "799   finale this wednesday! let's talk about it!! ...  2022-10-10  12:30:33   \n",
       "\n",
       "                                                 split  \\\n",
       "795  [LAPIT, NA, FINALE, OMG!, pero, sana, whatever...   \n",
       "796  [my, heart, 🥺🥺🥺\\n#TeamPrecious\\n#TeamPreciousP...   \n",
       "797  [DIVINE, ENERGY!!!!, \\n#TeamPrecious\\n#Preciou...   \n",
       "798  [okaaay., changed, our, wifi, pw, to, #TeamPre...   \n",
       "799  [, FINALE, THIS, WEDNESDAY!, Let's, talk, abou...   \n",
       "\n",
       "                                              hashtags  \\\n",
       "795                                                 []   \n",
       "796                                                 []   \n",
       "797                                                 []   \n",
       "798  [TeamPreciousPaulaNicole, TeamPrecious, Precio...   \n",
       "799  [TeamMarinaSummers,,TeamPreciousPaulaNicole,Te...   \n",
       "\n",
       "                                            text_token  \\\n",
       "795  [lapit, na, finale, omg, pero, sana, whatever,...   \n",
       "796                                            [heart]   \n",
       "797                                   [divine, energy]   \n",
       "798                        [okaaay, changed, wifi, pw]   \n",
       "799  [finale, wednesday, let, talk, kaninong, team,...   \n",
       "\n",
       "                                           text_string  \\\n",
       "795  lapit finale omg pero sana whatever result sta...   \n",
       "796                                              heart   \n",
       "797                                      divine energy   \n",
       "798                                okaaay changed wifi   \n",
       "799       finale wednesday let talk kaninong team kayo   \n",
       "\n",
       "                                     text_string_fdist  \\\n",
       "795  lapit na finale omg pero sana whatever result ...   \n",
       "796                                              heart   \n",
       "797                                      divine energy   \n",
       "798                                okaaay changed wifi   \n",
       "799       finale wednesday let talk kaninong team kayo   \n",
       "\n",
       "                                       text_string_lem  is_equal  neg    neu  \\\n",
       "795  lapit na finale omg pero sana whatever result ...      True  0.0  0.686   \n",
       "796                                              heart      True  0.0  1.000   \n",
       "797                                      divine energy      True  0.0  0.000   \n",
       "798                                okaaay changed wifi      True  0.0  1.000   \n",
       "799       finale wednesday let talk kaninong team kayo      True  0.0  1.000   \n",
       "\n",
       "       pos  compound sentiment  \n",
       "795  0.314    0.7506  positive  \n",
       "796  0.000    0.0000   neutral  \n",
       "797  1.000    0.6908  positive  \n",
       "798  0.000    0.0000   neutral  \n",
       "799  0.000    0.0000   neutral  "
      ]
     },
     "execution_count": 52,
     "metadata": {},
     "output_type": "execute_result"
    }
   ],
   "source": [
    "analyzer = SentimentIntensityAnalyzer()\n",
    "\n",
    "PPN_SA['polarity'] = PPN_SA['text_string_lem'].apply(lambda x: analyzer.polarity_scores(x))\n",
    "\n",
    "# Change data structure\n",
    "PPN_SA = pd.concat(\n",
    "     [PPN_SA.drop(['polarity'], axis=1), \n",
    "     PPN_SA['polarity'].apply(pd.Series)], axis=1)\n",
    "\n",
    "PPN_SA.drop(['user_name','Date','Time','split','hashtags','text_token','text_string','text_string_fdist'], axis = 1)\n",
    "\n",
    "PPN_SA['sentiment'] = PPN_SA['compound'].apply(lambda x: 'positive' if x >0 else 'neutral' if x==0 else 'negative')\n",
    "\n",
    "PPN_SA.tail()"
   ]
  },
  {
   "cell_type": "code",
   "execution_count": 53,
   "metadata": {
    "colab": {
     "base_uri": "https://localhost:8080/"
    },
    "id": "yZSiy_wwrRkz",
    "outputId": "c02b051a-02d9-45c1-88b9-a5862c57764e"
   },
   "outputs": [
    {
     "data": {
      "text/plain": [
       "positive    451\n",
       "neutral     299\n",
       "negative     50\n",
       "Name: sentiment, dtype: int64"
      ]
     },
     "execution_count": 53,
     "metadata": {},
     "output_type": "execute_result"
    }
   ],
   "source": [
    "PPN_SA['sentiment'].value_counts()"
   ]
  },
  {
   "cell_type": "code",
   "execution_count": 54,
   "metadata": {
    "colab": {
     "base_uri": "https://localhost:8080/",
     "height": 305
    },
    "id": "gXM4VSfaaF9S",
    "outputId": "bce44c0f-8da8-4dfb-f0ca-b2ce96531286"
   },
   "outputs": [
    {
     "data": {
      "text/plain": [
       "(0.0, 500.0)"
      ]
     },
     "execution_count": 54,
     "metadata": {},
     "output_type": "execute_result"
    },
    {
     "data": {
      "image/png": "[encoded data removed]",
      "text/plain": [
       "<Figure size 432x288 with 1 Axes>"
      ]
     },
     "metadata": {
      "needs_background": "light"
     },
     "output_type": "display_data"
    }
   ],
   "source": [
    "sns.set_palette('muted')\n",
    "ax = sns.barplot(x=PPN_SA['sentiment'].value_counts().index, y=PPN_SA['sentiment'].value_counts())\n",
    "ax.set_title('PPN Sentiment Text Values by Counts', fontsize=18, fontweight='bold')\n",
    "ax.set_ylim(0,500)"
   ]
  },
  {
   "cell_type": "markdown",
   "metadata": {
    "id": "S7CqevQW_g-6"
   },
   "source": [
    "### MS"
   ]
  },
  {
   "cell_type": "code",
   "execution_count": 55,
   "metadata": {
    "colab": {
     "base_uri": "https://localhost:8080/",
     "height": 206
    },
    "id": "dmi1qMd6_g-6",
    "outputId": "8e0577b5-eb0f-466c-e580-e3dffc3c7088"
   },
   "outputs": [
    {
     "data": {
      "text/html": [
       "<div>\n",
       "<style scoped>\n",
       "    .dataframe tbody tr th:only-of-type {\n",
       "        vertical-align: middle;\n",
       "    }\n",
       "\n",
       "    .dataframe tbody tr th {\n",
       "        vertical-align: top;\n",
       "    }\n",
       "\n",
       "    .dataframe thead th {\n",
       "        text-align: right;\n",
       "    }\n",
       "</style>\n",
       "<table border=\"1\" class=\"dataframe\">\n",
       "  <thead>\n",
       "    <tr style=\"text-align: right;\">\n",
       "      <th></th>\n",
       "      <th>text</th>\n",
       "      <th>text_token</th>\n",
       "      <th>text_string</th>\n",
       "    </tr>\n",
       "  </thead>\n",
       "  <tbody>\n",
       "    <tr>\n",
       "      <th>0</th>\n",
       "      <td>this is playing in my mind rent free. love ya ...</td>\n",
       "      <td>[playing, mind, rent, free, love, ya]</td>\n",
       "      <td>playing mind rent free love</td>\n",
       "    </tr>\n",
       "    <tr>\n",
       "      <th>1</th>\n",
       "      <td>i'm still</td>\n",
       "      <td>[still]</td>\n",
       "      <td>still</td>\n",
       "    </tr>\n",
       "    <tr>\n",
       "      <th>2</th>\n",
       "      <td>you slaaaaayed all season and you served the ...</td>\n",
       "      <td>[slaaaaayed, season, served, kids, daaaaaaays,...</td>\n",
       "      <td>slaaaaayed season served kids daaaaaaays final...</td>\n",
       "    </tr>\n",
       "    <tr>\n",
       "      <th>3</th>\n",
       "      <td>yep, that’s our queen!  💛☀️\\n</td>\n",
       "      <td>[yep, queen]</td>\n",
       "      <td>yep queen</td>\n",
       "    </tr>\n",
       "    <tr>\n",
       "      <th>4</th>\n",
       "      <td>marina summers supremacy✨</td>\n",
       "      <td>[marina, summers, supremacy]</td>\n",
       "      <td>marina summers supremacy</td>\n",
       "    </tr>\n",
       "  </tbody>\n",
       "</table>\n",
       "</div>"
      ],
      "text/plain": [
       "                                                text  \\\n",
       "0  this is playing in my mind rent free. love ya ...   \n",
       "1                                        i'm still     \n",
       "2   you slaaaaayed all season and you served the ...   \n",
       "3                   yep, that’s our queen!  💛☀️\\n      \n",
       "4                       marina summers supremacy✨      \n",
       "\n",
       "                                          text_token  \\\n",
       "0              [playing, mind, rent, free, love, ya]   \n",
       "1                                            [still]   \n",
       "2  [slaaaaayed, season, served, kids, daaaaaaays,...   \n",
       "3                                       [yep, queen]   \n",
       "4                       [marina, summers, supremacy]   \n",
       "\n",
       "                                         text_string  \n",
       "0                        playing mind rent free love  \n",
       "1                                              still  \n",
       "2  slaaaaayed season served kids daaaaaaays final...  \n",
       "3                                          yep queen  \n",
       "4                           marina summers supremacy  "
      ]
     },
     "execution_count": 55,
     "metadata": {},
     "output_type": "execute_result"
    }
   ],
   "source": [
    "MS_SA = MS.copy()\n",
    "\n",
    "MS_SA['text'] = MS_SA['text'].astype(str).str.lower()\n",
    "regexp = RegexpTokenizer('\\w+')\n",
    "\n",
    "MS_SA['text_token']=MS_SA['text'].apply(regexp.tokenize)\n",
    "\n",
    "# Make a list of english stopwords\n",
    "stopwords = nltk.corpus.stopwords.words(\"english\")\n",
    "\n",
    "# Extend the list with your own custom stopwords\n",
    "my_stopwords = ['https']\n",
    "stopwords.extend(my_stopwords)\n",
    "\n",
    "MS_SA['text_token'] = MS_SA['text_token'].apply(lambda x: [item for item in x if item not in stopwords])\n",
    "MS_SA['text_string'] = MS_SA['text_token'].apply(lambda x: ' '.join([item for item in x if len(item)>2]))\n",
    "\n",
    "MS_SA[['text', 'text_token', 'text_string']].head()"
   ]
  },
  {
   "cell_type": "code",
   "execution_count": 56,
   "metadata": {
    "colab": {
     "base_uri": "https://localhost:8080/",
     "height": 206
    },
    "id": "1-yjqid2_g-7",
    "outputId": "87e2761c-7074-4dc3-c52a-a501e8449812"
   },
   "outputs": [
    {
     "data": {
      "text/html": [
       "<div>\n",
       "<style scoped>\n",
       "    .dataframe tbody tr th:only-of-type {\n",
       "        vertical-align: middle;\n",
       "    }\n",
       "\n",
       "    .dataframe tbody tr th {\n",
       "        vertical-align: top;\n",
       "    }\n",
       "\n",
       "    .dataframe thead th {\n",
       "        text-align: right;\n",
       "    }\n",
       "</style>\n",
       "<table border=\"1\" class=\"dataframe\">\n",
       "  <thead>\n",
       "    <tr style=\"text-align: right;\">\n",
       "      <th></th>\n",
       "      <th>text</th>\n",
       "      <th>text_token</th>\n",
       "      <th>text_string</th>\n",
       "      <th>text_string_fdist</th>\n",
       "    </tr>\n",
       "  </thead>\n",
       "  <tbody>\n",
       "    <tr>\n",
       "      <th>611</th>\n",
       "      <td>for the win baby!!!!! ❤️❤️❤️</td>\n",
       "      <td>[win, baby]</td>\n",
       "      <td>win baby</td>\n",
       "      <td>win baby</td>\n",
       "    </tr>\n",
       "    <tr>\n",
       "      <th>612</th>\n",
       "      <td>for the  💜💜</td>\n",
       "      <td>[]</td>\n",
       "      <td></td>\n",
       "      <td></td>\n",
       "    </tr>\n",
       "    <tr>\n",
       "      <th>613</th>\n",
       "      <td>i made an artwork because  deserves one! you g...</td>\n",
       "      <td>[made, artwork, deserves, one, go, filipino, w...</td>\n",
       "      <td>made artwork deserves one filipino winnah</td>\n",
       "      <td>made artwork deserves one filipino winnah</td>\n",
       "    </tr>\n",
       "    <tr>\n",
       "      <th>614</th>\n",
       "      <td>may finale viewing party ba sa eastwood or cub...</td>\n",
       "      <td>[may, finale, viewing, party, ba, sa, eastwood...</td>\n",
       "      <td>may finale viewing party eastwood cubao area</td>\n",
       "      <td>may finale viewing party eastwood cubao area</td>\n",
       "    </tr>\n",
       "    <tr>\n",
       "      <th>615</th>\n",
       "      <td>i’m still full of emotions about what happened...</td>\n",
       "      <td>[still, full, emotions, happened, looking, for...</td>\n",
       "      <td>still full emotions happened looking forward t...</td>\n",
       "      <td>still full emotions happened looking forward t...</td>\n",
       "    </tr>\n",
       "  </tbody>\n",
       "</table>\n",
       "</div>"
      ],
      "text/plain": [
       "                                                  text  \\\n",
       "611                       for the win baby!!!!! ❤️❤️❤️   \n",
       "612                                        for the  💜💜   \n",
       "613  i made an artwork because  deserves one! you g...   \n",
       "614  may finale viewing party ba sa eastwood or cub...   \n",
       "615  i’m still full of emotions about what happened...   \n",
       "\n",
       "                                            text_token  \\\n",
       "611                                        [win, baby]   \n",
       "612                                                 []   \n",
       "613  [made, artwork, deserves, one, go, filipino, w...   \n",
       "614  [may, finale, viewing, party, ba, sa, eastwood...   \n",
       "615  [still, full, emotions, happened, looking, for...   \n",
       "\n",
       "                                           text_string  \\\n",
       "611                                           win baby   \n",
       "612                                                      \n",
       "613          made artwork deserves one filipino winnah   \n",
       "614       may finale viewing party eastwood cubao area   \n",
       "615  still full emotions happened looking forward t...   \n",
       "\n",
       "                                     text_string_fdist  \n",
       "611                                           win baby  \n",
       "612                                                     \n",
       "613          made artwork deserves one filipino winnah  \n",
       "614       may finale viewing party eastwood cubao area  \n",
       "615  still full emotions happened looking forward t...  "
      ]
     },
     "execution_count": 56,
     "metadata": {},
     "output_type": "execute_result"
    }
   ],
   "source": [
    "all_words = ' '.join([word for word in MS_SA['text_string']])\n",
    "tokenized_words = nltk.tokenize.word_tokenize(all_words)\n",
    "\n",
    "fdist = FreqDist(tokenized_words)\n",
    "\n",
    "MS_SA['text_string_fdist'] = MS_SA['text_token'].apply(lambda x: ' '.join([item for item in x if fdist[item] >= 1 ]))\n",
    "MS_SA[['text', 'text_token', 'text_string', 'text_string_fdist']].tail()"
   ]
  },
  {
   "cell_type": "code",
   "execution_count": 57,
   "metadata": {
    "colab": {
     "base_uri": "https://localhost:8080/"
    },
    "id": "v_9XiqSj_g-7",
    "outputId": "d30a1738-aef6-4b1d-b142-d908b9ab0aa0"
   },
   "outputs": [
    {
     "data": {
      "text/plain": [
       "True     605\n",
       "False     11\n",
       "Name: is_equal, dtype: int64"
      ]
     },
     "execution_count": 57,
     "metadata": {},
     "output_type": "execute_result"
    }
   ],
   "source": [
    "\n",
    "wordnet_lem = WordNetLemmatizer()\n",
    "\n",
    "MS_SA['text_string_lem'] = MS_SA['text_string_fdist'].apply(wordnet_lem.lemmatize)\n",
    "\n",
    "# check if the columns are equal\n",
    "MS_SA['is_equal']= (MS_SA['text_string_fdist']==MS_SA['text_string_lem'])\n",
    "# show level count\n",
    "MS_SA.is_equal.value_counts()"
   ]
  },
  {
   "cell_type": "code",
   "execution_count": 58,
   "metadata": {
    "colab": {
     "base_uri": "https://localhost:8080/",
     "height": 565
    },
    "id": "4AB5WBfz_g-8",
    "outputId": "cde08b8b-56bb-45c1-e5e5-98b58bc95b8b"
   },
   "outputs": [
    {
     "data": {
      "text/html": [
       "<div>\n",
       "<style scoped>\n",
       "    .dataframe tbody tr th:only-of-type {\n",
       "        vertical-align: middle;\n",
       "    }\n",
       "\n",
       "    .dataframe tbody tr th {\n",
       "        vertical-align: top;\n",
       "    }\n",
       "\n",
       "    .dataframe thead th {\n",
       "        text-align: right;\n",
       "    }\n",
       "</style>\n",
       "<table border=\"1\" class=\"dataframe\">\n",
       "  <thead>\n",
       "    <tr style=\"text-align: right;\">\n",
       "      <th></th>\n",
       "      <th>user_name</th>\n",
       "      <th>date</th>\n",
       "      <th>text</th>\n",
       "      <th>Date</th>\n",
       "      <th>Time</th>\n",
       "      <th>split</th>\n",
       "      <th>hashtags</th>\n",
       "      <th>text_token</th>\n",
       "      <th>text_string</th>\n",
       "      <th>text_string_fdist</th>\n",
       "      <th>text_string_lem</th>\n",
       "      <th>is_equal</th>\n",
       "      <th>neg</th>\n",
       "      <th>neu</th>\n",
       "      <th>pos</th>\n",
       "      <th>compound</th>\n",
       "      <th>sentiment</th>\n",
       "    </tr>\n",
       "  </thead>\n",
       "  <tbody>\n",
       "    <tr>\n",
       "      <th>611</th>\n",
       "      <td>fa-grif-iraf 🌟🦒</td>\n",
       "      <td>2022-10-11 01:40:50+00:00</td>\n",
       "      <td>for the win baby!!!!! ❤️❤️❤️</td>\n",
       "      <td>2022-10-11</td>\n",
       "      <td>01:40:50</td>\n",
       "      <td>[, , , , #TeamMarina, #TeamMarinaSummers, , FO...</td>\n",
       "      <td>[TeamMarina, TeamMarinaSummers]</td>\n",
       "      <td>[win, baby]</td>\n",
       "      <td>win baby</td>\n",
       "      <td>win baby</td>\n",
       "      <td>win baby</td>\n",
       "      <td>True</td>\n",
       "      <td>0.000</td>\n",
       "      <td>0.208</td>\n",
       "      <td>0.792</td>\n",
       "      <td>0.5859</td>\n",
       "      <td>positive</td>\n",
       "    </tr>\n",
       "    <tr>\n",
       "      <th>612</th>\n",
       "      <td>it's.camille</td>\n",
       "      <td>2022-10-11 01:38:03+00:00</td>\n",
       "      <td>for the  💜💜</td>\n",
       "      <td>2022-10-11</td>\n",
       "      <td>01:38:03</td>\n",
       "      <td>[, #TeamMarinaSummers, for, the, #win, 💜💜]</td>\n",
       "      <td>[TeamMarinaSummers, win]</td>\n",
       "      <td>[]</td>\n",
       "      <td></td>\n",
       "      <td></td>\n",
       "      <td></td>\n",
       "      <td>True</td>\n",
       "      <td>0.000</td>\n",
       "      <td>0.000</td>\n",
       "      <td>0.000</td>\n",
       "      <td>0.0000</td>\n",
       "      <td>neutral</td>\n",
       "    </tr>\n",
       "    <tr>\n",
       "      <th>613</th>\n",
       "      <td>VanTNT</td>\n",
       "      <td>2022-10-11 00:24:39+00:00</td>\n",
       "      <td>i made an artwork because  deserves one! you g...</td>\n",
       "      <td>2022-10-11</td>\n",
       "      <td>00:24:39</td>\n",
       "      <td>[I, made, an, artwork, because, , deserves, on...</td>\n",
       "      <td>[TeamMarinaSummers]</td>\n",
       "      <td>[made, artwork, deserves, one, go, filipino, w...</td>\n",
       "      <td>made artwork deserves one filipino winnah</td>\n",
       "      <td>made artwork deserves one filipino winnah</td>\n",
       "      <td>made artwork deserves one filipino winnah</td>\n",
       "      <td>True</td>\n",
       "      <td>0.000</td>\n",
       "      <td>1.000</td>\n",
       "      <td>0.000</td>\n",
       "      <td>0.0000</td>\n",
       "      <td>neutral</td>\n",
       "    </tr>\n",
       "    <tr>\n",
       "      <th>614</th>\n",
       "      <td>yul | EvaRina Stan 💖</td>\n",
       "      <td>2022-10-10 22:59:26+00:00</td>\n",
       "      <td>may finale viewing party ba sa eastwood or cub...</td>\n",
       "      <td>2022-10-10</td>\n",
       "      <td>22:59:26</td>\n",
       "      <td>[May, finale, viewing, party, ba, sa, Eastwood...</td>\n",
       "      <td>[DragRacePH, TeamEva, TeamEvaLeQueen, TeamMari...</td>\n",
       "      <td>[may, finale, viewing, party, ba, sa, eastwood...</td>\n",
       "      <td>may finale viewing party eastwood cubao area</td>\n",
       "      <td>may finale viewing party eastwood cubao area</td>\n",
       "      <td>may finale viewing party eastwood cubao area</td>\n",
       "      <td>True</td>\n",
       "      <td>0.000</td>\n",
       "      <td>0.690</td>\n",
       "      <td>0.310</td>\n",
       "      <td>0.4019</td>\n",
       "      <td>positive</td>\n",
       "    </tr>\n",
       "    <tr>\n",
       "      <th>615</th>\n",
       "      <td>Transginger</td>\n",
       "      <td>2022-10-10 21:47:42+00:00</td>\n",
       "      <td>i’m still full of emotions about what happened...</td>\n",
       "      <td>2022-10-10</td>\n",
       "      <td>21:47:42</td>\n",
       "      <td>[I’m, still, full, of, emotions, about, what, ...</td>\n",
       "      <td>[TeamPreciousPaulaNicole, TeamEvaLeQueen, Team...</td>\n",
       "      <td>[still, full, emotions, happened, looking, for...</td>\n",
       "      <td>still full emotions happened looking forward t...</td>\n",
       "      <td>still full emotions happened looking forward t...</td>\n",
       "      <td>still full emotions happened looking forward t...</td>\n",
       "      <td>True</td>\n",
       "      <td>0.119</td>\n",
       "      <td>0.881</td>\n",
       "      <td>0.000</td>\n",
       "      <td>-0.2263</td>\n",
       "      <td>negative</td>\n",
       "    </tr>\n",
       "  </tbody>\n",
       "</table>\n",
       "</div>"
      ],
      "text/plain": [
       "                user_name                       date  \\\n",
       "611       fa-grif-iraf 🌟🦒  2022-10-11 01:40:50+00:00   \n",
       "612          it's.camille  2022-10-11 01:38:03+00:00   \n",
       "613                VanTNT  2022-10-11 00:24:39+00:00   \n",
       "614  yul | EvaRina Stan 💖  2022-10-10 22:59:26+00:00   \n",
       "615           Transginger  2022-10-10 21:47:42+00:00   \n",
       "\n",
       "                                                  text        Date      Time  \\\n",
       "611                       for the win baby!!!!! ❤️❤️❤️  2022-10-11  01:40:50   \n",
       "612                                        for the  💜💜  2022-10-11  01:38:03   \n",
       "613  i made an artwork because  deserves one! you g...  2022-10-11  00:24:39   \n",
       "614  may finale viewing party ba sa eastwood or cub...  2022-10-10  22:59:26   \n",
       "615  i’m still full of emotions about what happened...  2022-10-10  21:47:42   \n",
       "\n",
       "                                                 split  \\\n",
       "611  [, , , , #TeamMarina, #TeamMarinaSummers, , FO...   \n",
       "612         [, #TeamMarinaSummers, for, the, #win, 💜💜]   \n",
       "613  [I, made, an, artwork, because, , deserves, on...   \n",
       "614  [May, finale, viewing, party, ba, sa, Eastwood...   \n",
       "615  [I’m, still, full, of, emotions, about, what, ...   \n",
       "\n",
       "                                              hashtags  \\\n",
       "611                    [TeamMarina, TeamMarinaSummers]   \n",
       "612                           [TeamMarinaSummers, win]   \n",
       "613                                [TeamMarinaSummers]   \n",
       "614  [DragRacePH, TeamEva, TeamEvaLeQueen, TeamMari...   \n",
       "615  [TeamPreciousPaulaNicole, TeamEvaLeQueen, Team...   \n",
       "\n",
       "                                            text_token  \\\n",
       "611                                        [win, baby]   \n",
       "612                                                 []   \n",
       "613  [made, artwork, deserves, one, go, filipino, w...   \n",
       "614  [may, finale, viewing, party, ba, sa, eastwood...   \n",
       "615  [still, full, emotions, happened, looking, for...   \n",
       "\n",
       "                                           text_string  \\\n",
       "611                                           win baby   \n",
       "612                                                      \n",
       "613          made artwork deserves one filipino winnah   \n",
       "614       may finale viewing party eastwood cubao area   \n",
       "615  still full emotions happened looking forward t...   \n",
       "\n",
       "                                     text_string_fdist  \\\n",
       "611                                           win baby   \n",
       "612                                                      \n",
       "613          made artwork deserves one filipino winnah   \n",
       "614       may finale viewing party eastwood cubao area   \n",
       "615  still full emotions happened looking forward t...   \n",
       "\n",
       "                                       text_string_lem  is_equal    neg  \\\n",
       "611                                           win baby      True  0.000   \n",
       "612                                                         True  0.000   \n",
       "613          made artwork deserves one filipino winnah      True  0.000   \n",
       "614       may finale viewing party eastwood cubao area      True  0.000   \n",
       "615  still full emotions happened looking forward t...      True  0.119   \n",
       "\n",
       "       neu    pos  compound sentiment  \n",
       "611  0.208  0.792    0.5859  positive  \n",
       "612  0.000  0.000    0.0000   neutral  \n",
       "613  1.000  0.000    0.0000   neutral  \n",
       "614  0.690  0.310    0.4019  positive  \n",
       "615  0.881  0.000   -0.2263  negative  "
      ]
     },
     "execution_count": 58,
     "metadata": {},
     "output_type": "execute_result"
    }
   ],
   "source": [
    "analyzer = SentimentIntensityAnalyzer()\n",
    "\n",
    "MS_SA['polarity'] = MS_SA['text_string_lem'].apply(lambda x: analyzer.polarity_scores(x))\n",
    "\n",
    "# Change data structure\n",
    "MS_SA = pd.concat(\n",
    "     [MS_SA.drop(['polarity'], axis=1), \n",
    "     MS_SA['polarity'].apply(pd.Series)], axis=1)\n",
    "\n",
    "MS_SA.drop(['user_name','Date','Time','split','hashtags','text_token','text_string','text_string_fdist'], axis = 1)\n",
    "\n",
    "MS_SA['sentiment'] = MS_SA['compound'].apply(lambda x: 'positive' if x >0 else 'neutral' if x==0 else 'negative')\n",
    "\n",
    "MS_SA.tail()"
   ]
  },
  {
   "cell_type": "code",
   "execution_count": 59,
   "metadata": {
    "colab": {
     "base_uri": "https://localhost:8080/"
    },
    "id": "qzMYMd6K_g-8",
    "outputId": "1dba56b6-d463-478f-c9aa-bd79dfeebbdf"
   },
   "outputs": [
    {
     "data": {
      "text/plain": [
       "neutral     290\n",
       "positive    264\n",
       "negative     62\n",
       "Name: sentiment, dtype: int64"
      ]
     },
     "execution_count": 59,
     "metadata": {},
     "output_type": "execute_result"
    }
   ],
   "source": [
    "MS_SA['sentiment'].value_counts()"
   ]
  },
  {
   "cell_type": "code",
   "execution_count": 60,
   "metadata": {
    "colab": {
     "base_uri": "https://localhost:8080/",
     "height": 305
    },
    "id": "SQXkN8ZScH6x",
    "outputId": "c4935a45-d91b-483a-dfa1-84b7651728dc"
   },
   "outputs": [
    {
     "data": {
      "text/plain": [
       "(0.0, 500.0)"
      ]
     },
     "execution_count": 60,
     "metadata": {},
     "output_type": "execute_result"
    },
    {
     "data": {
      "image/png": "[encoded data removed]",
      "text/plain": [
       "<Figure size 432x288 with 1 Axes>"
      ]
     },
     "metadata": {
      "needs_background": "light"
     },
     "output_type": "display_data"
    }
   ],
   "source": [
    "sns.set_palette('muted')\n",
    "ax = sns.barplot(x=MS_SA['sentiment'].value_counts().index, y=MS_SA['sentiment'].value_counts(), order=('positive', 'neutral', 'negative'))\n",
    "ax.set_title('MS Sentiment Text Values by Counts', fontsize=18, fontweight='bold')\n",
    "ax.set_ylim(0,500)"
   ]
  },
  {
   "cell_type": "code",
   "execution_count": 61,
   "metadata": {
    "colab": {
     "base_uri": "https://localhost:8080/",
     "height": 513
    },
    "id": "ECPsw9vQ9m92",
    "outputId": "c1473ef6-c43c-41dc-b831-0b650e6b2c0d"
   },
   "outputs": [
    {
     "data": {
      "image/png": "[encoded data removed]",
      "text/plain": [
       "<Figure size 1296x504 with 2 Axes>"
      ]
     },
     "metadata": {
      "needs_background": "light"
     },
     "output_type": "display_data"
    }
   ],
   "source": [
    "#placing the sentiment charts side by side\n",
    "fig = plt.figure(figsize=(18, 7))\n",
    "\n",
    "sns.set_palette('muted')\n",
    "\n",
    "ax = fig.add_subplot(1, 2, 1)\n",
    "ax = sns.barplot(x=PPN_SA['sentiment'].value_counts().index, y=PPN_SA['sentiment'].value_counts())\n",
    "ax.set_title('PPN Sentiment Text Values by Counts', fontsize=18, fontweight='bold')\n",
    "ax.set_xlabel(\"Sentiment Score\", fontsize=12)\n",
    "ax.set_ylabel(\"Number of Sentiments\", fontsize=12)\n",
    "ax.set_ylim(0,500)\n",
    "\n",
    "ax2 = fig.add_subplot(1, 2, 2)\n",
    "ax2 = sns.barplot(x=MS_SA['sentiment'].value_counts().index, y=MS_SA['sentiment'].value_counts(), order=('positive', 'neutral', 'negative'))\n",
    "ax2.set_title('MS Sentiment Text Values by Counts', fontsize=18, fontweight='bold')\n",
    "ax2.set_xlabel(\"Sentiment Score\", fontsize=12)\n",
    "ax2.set_ylabel(\"Number of Sentiments\", fontsize=12)\n",
    "ax2.set_ylim(0,500)\n",
    "\n",
    "plt.tight_layout()"
   ]
  },
  {
   "cell_type": "markdown",
   "metadata": {
    "id": "Fy8yoavqYL4y"
   },
   "source": [
    "# Statistical Inference"
   ]
  },
  {
   "cell_type": "markdown",
   "metadata": {
    "id": "plqLeI20AemY"
   },
   "source": [
    "## Emoji Sentiments"
   ]
  },
  {
   "cell_type": "markdown",
   "metadata": {
    "id": "JPtRHQ7vd3Ya"
   },
   "source": [
    "This part shows how much positive, neutral, and negative emojis are present in the datasets."
   ]
  },
  {
   "cell_type": "code",
   "execution_count": 62,
   "metadata": {
    "colab": {
     "base_uri": "https://localhost:8080/",
     "height": 143
    },
    "id": "6NCvT9-jAeRf",
    "outputId": "f66d627f-181d-4f28-abe8-ea35b65a395d"
   },
   "outputs": [
    {
     "data": {
      "text/html": [
       "<div>\n",
       "<style scoped>\n",
       "    .dataframe tbody tr th:only-of-type {\n",
       "        vertical-align: middle;\n",
       "    }\n",
       "\n",
       "    .dataframe tbody tr th {\n",
       "        vertical-align: top;\n",
       "    }\n",
       "\n",
       "    .dataframe thead th {\n",
       "        text-align: right;\n",
       "    }\n",
       "</style>\n",
       "<table border=\"1\" class=\"dataframe\">\n",
       "  <thead>\n",
       "    <tr style=\"text-align: right;\">\n",
       "      <th></th>\n",
       "      <th>Sentiment</th>\n",
       "      <th>Sum</th>\n",
       "    </tr>\n",
       "  </thead>\n",
       "  <tbody>\n",
       "    <tr>\n",
       "      <th>0</th>\n",
       "      <td>positive_emoji</td>\n",
       "      <td>449</td>\n",
       "    </tr>\n",
       "    <tr>\n",
       "      <th>1</th>\n",
       "      <td>neutral_emoji</td>\n",
       "      <td>386</td>\n",
       "    </tr>\n",
       "    <tr>\n",
       "      <th>2</th>\n",
       "      <td>negative_emoji</td>\n",
       "      <td>90</td>\n",
       "    </tr>\n",
       "  </tbody>\n",
       "</table>\n",
       "</div>"
      ],
      "text/plain": [
       "        Sentiment  Sum\n",
       "0  positive_emoji  449\n",
       "1   neutral_emoji  386\n",
       "2  negative_emoji   90"
      ]
     },
     "execution_count": 62,
     "metadata": {},
     "output_type": "execute_result"
    }
   ],
   "source": [
    "PPN_emo_sum"
   ]
  },
  {
   "cell_type": "code",
   "execution_count": 63,
   "metadata": {
    "colab": {
     "base_uri": "https://localhost:8080/",
     "height": 143
    },
    "id": "0lyXmb48Cw7Y",
    "outputId": "4de0e347-015d-43db-9b45-7c5fb9c7a489"
   },
   "outputs": [
    {
     "data": {
      "text/html": [
       "<div>\n",
       "<style scoped>\n",
       "    .dataframe tbody tr th:only-of-type {\n",
       "        vertical-align: middle;\n",
       "    }\n",
       "\n",
       "    .dataframe tbody tr th {\n",
       "        vertical-align: top;\n",
       "    }\n",
       "\n",
       "    .dataframe thead th {\n",
       "        text-align: right;\n",
       "    }\n",
       "</style>\n",
       "<table border=\"1\" class=\"dataframe\">\n",
       "  <thead>\n",
       "    <tr style=\"text-align: right;\">\n",
       "      <th></th>\n",
       "      <th>Sentiment</th>\n",
       "      <th>Sum</th>\n",
       "    </tr>\n",
       "  </thead>\n",
       "  <tbody>\n",
       "    <tr>\n",
       "      <th>0</th>\n",
       "      <td>positive_emoji</td>\n",
       "      <td>199</td>\n",
       "    </tr>\n",
       "    <tr>\n",
       "      <th>1</th>\n",
       "      <td>neutral_emoji</td>\n",
       "      <td>367</td>\n",
       "    </tr>\n",
       "    <tr>\n",
       "      <th>2</th>\n",
       "      <td>negative_emoji</td>\n",
       "      <td>72</td>\n",
       "    </tr>\n",
       "  </tbody>\n",
       "</table>\n",
       "</div>"
      ],
      "text/plain": [
       "        Sentiment  Sum\n",
       "0  positive_emoji  199\n",
       "1   neutral_emoji  367\n",
       "2  negative_emoji   72"
      ]
     },
     "execution_count": 63,
     "metadata": {},
     "output_type": "execute_result"
    }
   ],
   "source": [
    "MS_emo_sum"
   ]
  },
  {
   "cell_type": "markdown",
   "metadata": {
    "id": "WA-UhhhwwJ2M"
   },
   "source": [
    "### Emoji Sentiment Analysis"
   ]
  },
  {
   "cell_type": "code",
   "execution_count": 64,
   "metadata": {
    "colab": {
     "base_uri": "https://localhost:8080/"
    },
    "id": "gFOA9XN2dLpe",
    "outputId": "85da3d0b-75f3-4698-a98b-0be953f12898"
   },
   "outputs": [
    {
     "data": {
      "image/png": "[encoded data removed]",
      "text/plain": [
       "<Figure size 1296x504 with 2 Axes>"
      ]
     },
     "metadata": {
      "needs_background": "light"
     },
     "output_type": "display_data"
    }
   ],
   "source": [
    "fig = plt.figure(figsize=(18, 7))\n",
    "new_x = ['Positive', 'Neutral', 'Negative']\n",
    "\n",
    "sns.set_palette('muted')\n",
    "\n",
    "ax = fig.add_subplot(1, 2, 1)\n",
    "ax = sns.barplot(x=PPN_emo_sum['Sentiment'], y=PPN_emo_sum['Sum'])\n",
    "ax.set_title('PPN Emojis by Counts', fontsize=18, fontweight='bold')\n",
    "ax.set_xticklabels(new_x)\n",
    "ax.set_xlabel(\"Sentiment\", fontsize=12)\n",
    "ax.set_ylabel(\"Number of Emojis\", fontsize=12)\n",
    "ax.set_ylim(0,500)\n",
    "\n",
    "ax2 = fig.add_subplot(1, 2, 2)\n",
    "ax2 = sns.barplot(x=MS_emo_sum['Sentiment'], y=MS_emo_sum['Sum'])\n",
    "ax2.set_title('MS Emojis by Counts', fontsize=18, fontweight='bold')\n",
    "ax2.set_xticklabels(new_x)\n",
    "ax2.set_xlabel(\"Sentiment\", fontsize=12)\n",
    "ax2.set_ylabel(\"Number of Emojis\", fontsize=12)\n",
    "ax2.set_ylim(0,500)\n",
    "\n",
    "plt.tight_layout()"
   ]
  },
  {
   "cell_type": "markdown",
   "metadata": {
    "id": "ifV567kv_2i5"
   },
   "source": [
    "## Text Sentiments"
   ]
  },
  {
   "cell_type": "markdown",
   "metadata": {
    "id": "H0ffhpqRDx-h"
   },
   "source": [
    "This segment of the notebook shows what is considered to be positive, neutral, or negative according to nltk."
   ]
  },
  {
   "cell_type": "code",
   "execution_count": 65,
   "metadata": {
    "colab": {
     "base_uri": "https://localhost:8080/",
     "height": 143
    },
    "id": "-RkqLri1_8t0",
    "outputId": "ac54d92d-ac61-4b40-e406-6a6b9c734e48"
   },
   "outputs": [
    {
     "data": {
      "text/html": [
       "<div>\n",
       "<style scoped>\n",
       "    .dataframe tbody tr th:only-of-type {\n",
       "        vertical-align: middle;\n",
       "    }\n",
       "\n",
       "    .dataframe tbody tr th {\n",
       "        vertical-align: top;\n",
       "    }\n",
       "\n",
       "    .dataframe thead th {\n",
       "        text-align: right;\n",
       "    }\n",
       "</style>\n",
       "<table border=\"1\" class=\"dataframe\">\n",
       "  <thead>\n",
       "    <tr style=\"text-align: right;\">\n",
       "      <th></th>\n",
       "      <th>sentiment</th>\n",
       "    </tr>\n",
       "  </thead>\n",
       "  <tbody>\n",
       "    <tr>\n",
       "      <th>positive</th>\n",
       "      <td>451</td>\n",
       "    </tr>\n",
       "    <tr>\n",
       "      <th>neutral</th>\n",
       "      <td>299</td>\n",
       "    </tr>\n",
       "    <tr>\n",
       "      <th>negative</th>\n",
       "      <td>50</td>\n",
       "    </tr>\n",
       "  </tbody>\n",
       "</table>\n",
       "</div>"
      ],
      "text/plain": [
       "          sentiment\n",
       "positive        451\n",
       "neutral         299\n",
       "negative         50"
      ]
     },
     "execution_count": 65,
     "metadata": {},
     "output_type": "execute_result"
    }
   ],
   "source": [
    "#making a dataframe for the value counts\n",
    "PPN_count = pd.DataFrame(PPN_SA['sentiment'].value_counts())\n",
    "PPN_count"
   ]
  },
  {
   "cell_type": "code",
   "execution_count": 66,
   "metadata": {
    "colab": {
     "base_uri": "https://localhost:8080/",
     "height": 143
    },
    "id": "HgHh_YTM_4z9",
    "outputId": "6b64d0a3-cc24-4a6e-97fb-39a025571ced"
   },
   "outputs": [
    {
     "data": {
      "text/html": [
       "<div>\n",
       "<style scoped>\n",
       "    .dataframe tbody tr th:only-of-type {\n",
       "        vertical-align: middle;\n",
       "    }\n",
       "\n",
       "    .dataframe tbody tr th {\n",
       "        vertical-align: top;\n",
       "    }\n",
       "\n",
       "    .dataframe thead th {\n",
       "        text-align: right;\n",
       "    }\n",
       "</style>\n",
       "<table border=\"1\" class=\"dataframe\">\n",
       "  <thead>\n",
       "    <tr style=\"text-align: right;\">\n",
       "      <th></th>\n",
       "      <th>sentiment</th>\n",
       "    </tr>\n",
       "  </thead>\n",
       "  <tbody>\n",
       "    <tr>\n",
       "      <th>neutral</th>\n",
       "      <td>290</td>\n",
       "    </tr>\n",
       "    <tr>\n",
       "      <th>positive</th>\n",
       "      <td>264</td>\n",
       "    </tr>\n",
       "    <tr>\n",
       "      <th>negative</th>\n",
       "      <td>62</td>\n",
       "    </tr>\n",
       "  </tbody>\n",
       "</table>\n",
       "</div>"
      ],
      "text/plain": [
       "          sentiment\n",
       "neutral         290\n",
       "positive        264\n",
       "negative         62"
      ]
     },
     "execution_count": 66,
     "metadata": {},
     "output_type": "execute_result"
    }
   ],
   "source": [
    "MS_count = pd.DataFrame(MS_SA['sentiment'].value_counts())\n",
    "MS_count"
   ]
  },
  {
   "cell_type": "markdown",
   "metadata": {
    "id": "s0n-3e1jVOSC"
   },
   "source": [
    "### Sentiment Score Analysis"
   ]
  },
  {
   "cell_type": "code",
   "execution_count": 67,
   "metadata": {
    "id": "gJNP9-ExVv2e"
   },
   "outputs": [],
   "source": [
    "merged = pd.concat([PPN_SA[['compound']], MS_SA[['compound']]], axis=1, keys= ['PPN', 'MS'])"
   ]
  },
  {
   "cell_type": "code",
   "execution_count": 68,
   "metadata": {
    "colab": {
     "base_uri": "https://localhost:8080/",
     "height": 238
    },
    "id": "x5Wun3w_fA4t",
    "outputId": "bf402425-b57f-4afd-e5f5-daecd6f5bcb3"
   },
   "outputs": [
    {
     "data": {
      "text/html": [
       "<div>\n",
       "<style scoped>\n",
       "    .dataframe tbody tr th:only-of-type {\n",
       "        vertical-align: middle;\n",
       "    }\n",
       "\n",
       "    .dataframe tbody tr th {\n",
       "        vertical-align: top;\n",
       "    }\n",
       "\n",
       "    .dataframe thead tr th {\n",
       "        text-align: left;\n",
       "    }\n",
       "</style>\n",
       "<table border=\"1\" class=\"dataframe\">\n",
       "  <thead>\n",
       "    <tr>\n",
       "      <th></th>\n",
       "      <th>PPN</th>\n",
       "      <th>MS</th>\n",
       "    </tr>\n",
       "    <tr>\n",
       "      <th></th>\n",
       "      <th>compound</th>\n",
       "      <th>compound</th>\n",
       "    </tr>\n",
       "  </thead>\n",
       "  <tbody>\n",
       "    <tr>\n",
       "      <th>0</th>\n",
       "      <td>0.6705</td>\n",
       "      <td>0.8519</td>\n",
       "    </tr>\n",
       "    <tr>\n",
       "      <th>1</th>\n",
       "      <td>0.6705</td>\n",
       "      <td>0.0000</td>\n",
       "    </tr>\n",
       "    <tr>\n",
       "      <th>2</th>\n",
       "      <td>0.0000</td>\n",
       "      <td>0.4404</td>\n",
       "    </tr>\n",
       "    <tr>\n",
       "      <th>3</th>\n",
       "      <td>0.9413</td>\n",
       "      <td>0.2960</td>\n",
       "    </tr>\n",
       "    <tr>\n",
       "      <th>4</th>\n",
       "      <td>0.0000</td>\n",
       "      <td>0.0516</td>\n",
       "    </tr>\n",
       "  </tbody>\n",
       "</table>\n",
       "</div>"
      ],
      "text/plain": [
       "       PPN       MS\n",
       "  compound compound\n",
       "0   0.6705   0.8519\n",
       "1   0.6705   0.0000\n",
       "2   0.0000   0.4404\n",
       "3   0.9413   0.2960\n",
       "4   0.0000   0.0516"
      ]
     },
     "execution_count": 68,
     "metadata": {},
     "output_type": "execute_result"
    }
   ],
   "source": [
    "merged.head()"
   ]
  },
  {
   "cell_type": "code",
   "execution_count": 69,
   "metadata": {
    "colab": {
     "base_uri": "https://localhost:8080/",
     "height": 332
    },
    "id": "zGrF9wpnV-hR",
    "outputId": "626143d3-71c2-471e-c33a-8f1e7cc2a5d8"
   },
   "outputs": [
    {
     "data": {
      "text/html": [
       "<div>\n",
       "<style scoped>\n",
       "    .dataframe tbody tr th:only-of-type {\n",
       "        vertical-align: middle;\n",
       "    }\n",
       "\n",
       "    .dataframe tbody tr th {\n",
       "        vertical-align: top;\n",
       "    }\n",
       "\n",
       "    .dataframe thead tr th {\n",
       "        text-align: left;\n",
       "    }\n",
       "</style>\n",
       "<table border=\"1\" class=\"dataframe\">\n",
       "  <thead>\n",
       "    <tr>\n",
       "      <th></th>\n",
       "      <th>PPN</th>\n",
       "      <th>MS</th>\n",
       "    </tr>\n",
       "    <tr>\n",
       "      <th></th>\n",
       "      <th>compound</th>\n",
       "      <th>compound</th>\n",
       "    </tr>\n",
       "  </thead>\n",
       "  <tbody>\n",
       "    <tr>\n",
       "      <th>count</th>\n",
       "      <td>800.000000</td>\n",
       "      <td>616.000000</td>\n",
       "    </tr>\n",
       "    <tr>\n",
       "      <th>mean</th>\n",
       "      <td>0.339414</td>\n",
       "      <td>0.207373</td>\n",
       "    </tr>\n",
       "    <tr>\n",
       "      <th>std</th>\n",
       "      <td>0.379866</td>\n",
       "      <td>0.375170</td>\n",
       "    </tr>\n",
       "    <tr>\n",
       "      <th>min</th>\n",
       "      <td>-0.877900</td>\n",
       "      <td>-0.822500</td>\n",
       "    </tr>\n",
       "    <tr>\n",
       "      <th>25%</th>\n",
       "      <td>0.000000</td>\n",
       "      <td>0.000000</td>\n",
       "    </tr>\n",
       "    <tr>\n",
       "      <th>50%</th>\n",
       "      <td>0.369300</td>\n",
       "      <td>0.000000</td>\n",
       "    </tr>\n",
       "    <tr>\n",
       "      <th>75%</th>\n",
       "      <td>0.636900</td>\n",
       "      <td>0.526700</td>\n",
       "    </tr>\n",
       "    <tr>\n",
       "      <th>max</th>\n",
       "      <td>0.972900</td>\n",
       "      <td>0.972900</td>\n",
       "    </tr>\n",
       "  </tbody>\n",
       "</table>\n",
       "</div>"
      ],
      "text/plain": [
       "              PPN          MS\n",
       "         compound    compound\n",
       "count  800.000000  616.000000\n",
       "mean     0.339414    0.207373\n",
       "std      0.379866    0.375170\n",
       "min     -0.877900   -0.822500\n",
       "25%      0.000000    0.000000\n",
       "50%      0.369300    0.000000\n",
       "75%      0.636900    0.526700\n",
       "max      0.972900    0.972900"
      ]
     },
     "execution_count": 69,
     "metadata": {},
     "output_type": "execute_result"
    }
   ],
   "source": [
    "merged.describe()"
   ]
  },
  {
   "cell_type": "code",
   "execution_count": 70,
   "metadata": {
    "colab": {
     "base_uri": "https://localhost:8080/"
    },
    "id": "cgfJIVGfu4th",
    "outputId": "c35fe794-76b1-49d5-e758-08fff02eb99d"
   },
   "outputs": [
    {
     "name": "stdout",
     "output_type": "stream",
     "text": [
      "PPN  compound    0.3693\n",
      "MS   compound    0.0000\n",
      "dtype: float64\n"
     ]
    }
   ],
   "source": [
    "print(merged.median())"
   ]
  },
  {
   "cell_type": "code",
   "execution_count": 71,
   "metadata": {
    "colab": {
     "base_uri": "https://localhost:8080/",
     "height": 305
    },
    "id": "zjcaqI-Meq5w",
    "outputId": "97d9e422-1ce0-4a0d-beb6-aeaf736353a9"
   },
   "outputs": [
    {
     "data": {
      "text/plain": [
       "Text(0.5, 1.0, 'Compound Score by Tweets')"
      ]
     },
     "execution_count": 71,
     "metadata": {},
     "output_type": "execute_result"
    },
    {
     "data": {
      "image/png": "[encoded data removed]",
      "text/plain": [
       "<Figure size 432x288 with 1 Axes>"
      ]
     },
     "metadata": {
      "needs_background": "light"
     },
     "output_type": "display_data"
    }
   ],
   "source": [
    "#creating a color array based on line graph\n",
    "my_colors = [\"#50e991\", \"#0bb4ff\"]\n",
    "# add color array to set_palette\n",
    "sns.set_palette( my_colors )\n",
    "\n",
    "ax = sns.boxplot(data=merged,  orient=\"h\", showfliers=True,  meanprops={\"marker\": \"+\", \"markeredgecolor\": \"black\", \"markersize\": \"10\"})\n",
    "ax.set_title('Compound Score by Tweets', fontsize=18, fontweight='bold')"
   ]
  },
  {
   "cell_type": "markdown",
   "metadata": {
    "id": "FzxkarlAnuAh"
   },
   "source": [
    "#### Boxplot Analysis"
   ]
  },
  {
   "cell_type": "markdown",
   "metadata": {
    "id": "hDVlt6nNn33S"
   },
   "source": [
    "**Median Line**\n",
    "\n",
    "PPN: 0.3693\n",
    "\n",
    "MS: 0.00\n",
    "\n",
    "\n",
    "The median line tells the midpoint or middle value of the dataset. For PPN, the median is at 0.3693, while there is no median line for MS. There is a median for MS, but it coincides with the first quartile. It can be interpreted as half of the tweets for MS are neutral or negative. As for PPN, more than half of the tweets are positive. \n",
    "\n",
    "**Q1**\n",
    "\n",
    "PPN: 0.00\n",
    "\n",
    "MS: 0.00\n",
    "\n",
    "\n",
    "The Q1, or the first quartile, separates the lower 25% of the dataset from the rest. For both PPN and MS, the Q1 is at 0.00. This means that 25% of the values are classified as neutral to negative. Hence, there are still more positive tweets for both contestants.\n",
    "\n",
    "**Q3**\n",
    "\n",
    "PPN: 0.6369\n",
    "\n",
    "MS: 0.5267\n",
    "\n",
    "\n",
    "Quartile 3 separates the top 25% of the tweets on the right. This is equivalent to the 75% mark. For PPN, the Q3 is at 0.6369, while for MS, the Q3 is at 0.5267. This shows that the positive tweets for PPN are more positive compared to MS. \n",
    "\n",
    "**Whisker**\n",
    "\n",
    "PPN: longer left whisker\n",
    "\n",
    "MS: longer right whisker\n",
    "\n",
    "\n",
    "The left whisker for PPN is longer, which means that the neutral to negative tweets are more varying than MS, implicating that MS has more consistent neutral to negative tweets. On the other hand, the right whisker is longer for MS, which means that there is a more significant variance in sentiment score at the top 25% of the tweets. Also, this means that the top 25% of the positive tweets for PPN are more consistent, as the right whisker for PPN is shorter than MS.  \n",
    "\n",
    "**Skewness**\n",
    "\n",
    "PPN: Left skewed\n",
    "\n",
    "MS: Left skewed\n",
    "\n",
    "\n",
    "Both of the generated boxplots for PPN and MS are left skewed. This means that the right whiskers are shorter, which is true for PPN and MS. Having a left-skewed boxplot generally means that most sentiment scores are positive but with a few zero negatives scores. This is justified by the created bar chart that there are more positive tweets for both PPN and MS.\n",
    "\n",
    "**Outlier:**\n",
    "\n",
    "PPN: None\n",
    "\n",
    "MS: 5 outliers\n",
    "\n",
    "\n",
    "Sentiment scores for MS are more condensed (based on the boxplot) but contain several outliers. There are no outliers on PPN, but the plot is longer or has greater width, which means that the scores are more varied or spread for PPN."
   ]
  },
  {
   "cell_type": "code",
   "execution_count": 72,
   "metadata": {
    "colab": {
     "base_uri": "https://localhost:8080/",
     "height": 614
    },
    "id": "op0BD7oCfAuJ",
    "outputId": "1db2870c-8156-4541-f03b-cdf214837049"
   },
   "outputs": [
    {
     "data": {
      "text/html": [
       "<div>\n",
       "<style scoped>\n",
       "    .dataframe tbody tr th:only-of-type {\n",
       "        vertical-align: middle;\n",
       "    }\n",
       "\n",
       "    .dataframe tbody tr th {\n",
       "        vertical-align: top;\n",
       "    }\n",
       "\n",
       "    .dataframe thead th {\n",
       "        text-align: right;\n",
       "    }\n",
       "</style>\n",
       "<table border=\"1\" class=\"dataframe\">\n",
       "  <thead>\n",
       "    <tr style=\"text-align: right;\">\n",
       "      <th></th>\n",
       "      <th>user_name</th>\n",
       "      <th>date</th>\n",
       "      <th>text</th>\n",
       "      <th>Date</th>\n",
       "      <th>Time</th>\n",
       "      <th>split</th>\n",
       "      <th>hashtags</th>\n",
       "      <th>text_token</th>\n",
       "      <th>text_string</th>\n",
       "      <th>text_string_fdist</th>\n",
       "      <th>text_string_lem</th>\n",
       "      <th>is_equal</th>\n",
       "      <th>neg</th>\n",
       "      <th>neu</th>\n",
       "      <th>pos</th>\n",
       "      <th>compound</th>\n",
       "      <th>sentiment</th>\n",
       "    </tr>\n",
       "  </thead>\n",
       "  <tbody>\n",
       "    <tr>\n",
       "      <th>545</th>\n",
       "      <td>Religion Is Rina (Rig)</td>\n",
       "      <td>2022-10-11 23:33:05+00:00</td>\n",
       "      <td>manifesting na manalo ung baddest bitch in the...</td>\n",
       "      <td>2022-10-11</td>\n",
       "      <td>23:33:05</td>\n",
       "      <td>[Manifesting, na, manalo, ung, baddest, bitch,...</td>\n",
       "      <td>[TeamMarinaSummers]</td>\n",
       "      <td>[manifesting, na, manalo, ung, baddest, bitch,...</td>\n",
       "      <td>manifesting manalo ung baddest bitch game pop ...</td>\n",
       "      <td>manifesting na manalo ung baddest bitch game p...</td>\n",
       "      <td>manifesting na manalo ung baddest bitch game p...</td>\n",
       "      <td>True</td>\n",
       "      <td>0.521</td>\n",
       "      <td>0.479</td>\n",
       "      <td>0.000</td>\n",
       "      <td>-0.8225</td>\n",
       "      <td>negative</td>\n",
       "    </tr>\n",
       "    <tr>\n",
       "      <th>63</th>\n",
       "      <td>khalifa 𓆘</td>\n",
       "      <td>2022-10-12 14:50:44+00:00</td>\n",
       "      <td>all the way from the very premier but damn ms...</td>\n",
       "      <td>2022-10-12</td>\n",
       "      <td>14:50:44</td>\n",
       "      <td>[#TeamMarinaSummers, all, the, way, from, the,...</td>\n",
       "      <td>[TeamMarinaSummers]</td>\n",
       "      <td>[way, premier, damn, ms, fucking, killed, sire...</td>\n",
       "      <td>way premier damn fucking killed sirena still n...</td>\n",
       "      <td>way premier damn fucking killed sirena still n...</td>\n",
       "      <td>way premier damn fucking killed sirena still n...</td>\n",
       "      <td>True</td>\n",
       "      <td>0.428</td>\n",
       "      <td>0.572</td>\n",
       "      <td>0.000</td>\n",
       "      <td>-0.8173</td>\n",
       "      <td>negative</td>\n",
       "    </tr>\n",
       "    <tr>\n",
       "      <th>287</th>\n",
       "      <td>aiman</td>\n",
       "      <td>2022-10-12 11:50:32+00:00</td>\n",
       "      <td>goooooooooooo bad bitch!!!!!!!</td>\n",
       "      <td>2022-10-12</td>\n",
       "      <td>11:50:32</td>\n",
       "      <td>[GOOOOOOOOOOOO, BAD, BITCH!!!!!!!, #TeamMarina...</td>\n",
       "      <td>[TeamMarinaSummers]</td>\n",
       "      <td>[goooooooooooo, bad, bitch]</td>\n",
       "      <td>goooooooooooo bad bitch</td>\n",
       "      <td>goooooooooooo bad bitch</td>\n",
       "      <td>goooooooooooo bad bitch</td>\n",
       "      <td>True</td>\n",
       "      <td>0.880</td>\n",
       "      <td>0.120</td>\n",
       "      <td>0.000</td>\n",
       "      <td>-0.8074</td>\n",
       "      <td>negative</td>\n",
       "    </tr>\n",
       "    <tr>\n",
       "      <th>562</th>\n",
       "      <td>Marina Yumburger</td>\n",
       "      <td>2022-10-11 17:53:41+00:00</td>\n",
       "      <td>everyone's wig flew, was snatched, made a mind...</td>\n",
       "      <td>2022-10-11</td>\n",
       "      <td>17:53:41</td>\n",
       "      <td>[Everyone's, wig, flew,, was, snatched,, made,...</td>\n",
       "      <td>[TeamMarinaSummers,]</td>\n",
       "      <td>[everyone, wig, flew, snatched, made, mind, st...</td>\n",
       "      <td>everyone wig flew snatched made mind started a...</td>\n",
       "      <td>everyone wig flew snatched made mind started a...</td>\n",
       "      <td>everyone wig flew snatched made mind started a...</td>\n",
       "      <td>True</td>\n",
       "      <td>0.356</td>\n",
       "      <td>0.644</td>\n",
       "      <td>0.000</td>\n",
       "      <td>-0.8020</td>\n",
       "      <td>negative</td>\n",
       "    </tr>\n",
       "    <tr>\n",
       "      <th>199</th>\n",
       "      <td>lovely lady love</td>\n",
       "      <td>2022-10-12 12:17:56+00:00</td>\n",
       "      <td>what happened? you can be mediocre all season ...</td>\n",
       "      <td>2022-10-12</td>\n",
       "      <td>12:17:56</td>\n",
       "      <td>[What, happened?, You, can, be, mediocre, all,...</td>\n",
       "      <td>[DragRacePh, TeamMarinaSummers, justiceformarina]</td>\n",
       "      <td>[happened, mediocre, season, long, crowned, wi...</td>\n",
       "      <td>happened mediocre season long crowned winner l...</td>\n",
       "      <td>happened mediocre season long crowned winner l...</td>\n",
       "      <td>happened mediocre season long crowned winner l...</td>\n",
       "      <td>True</td>\n",
       "      <td>0.344</td>\n",
       "      <td>0.530</td>\n",
       "      <td>0.126</td>\n",
       "      <td>-0.7650</td>\n",
       "      <td>negative</td>\n",
       "    </tr>\n",
       "    <tr>\n",
       "      <th>605</th>\n",
       "      <td>s'aint</td>\n",
       "      <td>2022-10-11 02:15:00+00:00</td>\n",
       "      <td>if they dont let my girl win im gonna get so m...</td>\n",
       "      <td>2022-10-11</td>\n",
       "      <td>02:15:00</td>\n",
       "      <td>[IF, THEY, DONT, LET, MY, GIRL, WIN, IM, GONNA...</td>\n",
       "      <td>[TeamMarinaSummers]</td>\n",
       "      <td>[dont, let, girl, win, im, gonna, get, mad, as...</td>\n",
       "      <td>dont let girl win gonna get mad asfjwmaudm</td>\n",
       "      <td>dont let girl win get mad asfjwmaudm</td>\n",
       "      <td>dont let girl win get mad asfjwmaudm</td>\n",
       "      <td>True</td>\n",
       "      <td>0.556</td>\n",
       "      <td>0.444</td>\n",
       "      <td>0.000</td>\n",
       "      <td>-0.7409</td>\n",
       "      <td>negative</td>\n",
       "    </tr>\n",
       "  </tbody>\n",
       "</table>\n",
       "</div>"
      ],
      "text/plain": [
       "                  user_name                       date  \\\n",
       "545  Religion Is Rina (Rig)  2022-10-11 23:33:05+00:00   \n",
       "63                khalifa 𓆘  2022-10-12 14:50:44+00:00   \n",
       "287                   aiman  2022-10-12 11:50:32+00:00   \n",
       "562        Marina Yumburger  2022-10-11 17:53:41+00:00   \n",
       "199        lovely lady love  2022-10-12 12:17:56+00:00   \n",
       "605                  s'aint  2022-10-11 02:15:00+00:00   \n",
       "\n",
       "                                                  text        Date      Time  \\\n",
       "545  manifesting na manalo ung baddest bitch in the...  2022-10-11  23:33:05   \n",
       "63    all the way from the very premier but damn ms...  2022-10-12  14:50:44   \n",
       "287                    goooooooooooo bad bitch!!!!!!!   2022-10-12  11:50:32   \n",
       "562  everyone's wig flew, was snatched, made a mind...  2022-10-11  17:53:41   \n",
       "199  what happened? you can be mediocre all season ...  2022-10-12  12:17:56   \n",
       "605  if they dont let my girl win im gonna get so m...  2022-10-11  02:15:00   \n",
       "\n",
       "                                                 split  \\\n",
       "545  [Manifesting, na, manalo, ung, baddest, bitch,...   \n",
       "63   [#TeamMarinaSummers, all, the, way, from, the,...   \n",
       "287  [GOOOOOOOOOOOO, BAD, BITCH!!!!!!!, #TeamMarina...   \n",
       "562  [Everyone's, wig, flew,, was, snatched,, made,...   \n",
       "199  [What, happened?, You, can, be, mediocre, all,...   \n",
       "605  [IF, THEY, DONT, LET, MY, GIRL, WIN, IM, GONNA...   \n",
       "\n",
       "                                              hashtags  \\\n",
       "545                                [TeamMarinaSummers]   \n",
       "63                                 [TeamMarinaSummers]   \n",
       "287                                [TeamMarinaSummers]   \n",
       "562                               [TeamMarinaSummers,]   \n",
       "199  [DragRacePh, TeamMarinaSummers, justiceformarina]   \n",
       "605                                [TeamMarinaSummers]   \n",
       "\n",
       "                                            text_token  \\\n",
       "545  [manifesting, na, manalo, ung, baddest, bitch,...   \n",
       "63   [way, premier, damn, ms, fucking, killed, sire...   \n",
       "287                        [goooooooooooo, bad, bitch]   \n",
       "562  [everyone, wig, flew, snatched, made, mind, st...   \n",
       "199  [happened, mediocre, season, long, crowned, wi...   \n",
       "605  [dont, let, girl, win, im, gonna, get, mad, as...   \n",
       "\n",
       "                                           text_string  \\\n",
       "545  manifesting manalo ung baddest bitch game pop ...   \n",
       "63   way premier damn fucking killed sirena still n...   \n",
       "287                            goooooooooooo bad bitch   \n",
       "562  everyone wig flew snatched made mind started a...   \n",
       "199  happened mediocre season long crowned winner l...   \n",
       "605         dont let girl win gonna get mad asfjwmaudm   \n",
       "\n",
       "                                     text_string_fdist  \\\n",
       "545  manifesting na manalo ung baddest bitch game p...   \n",
       "63   way premier damn fucking killed sirena still n...   \n",
       "287                            goooooooooooo bad bitch   \n",
       "562  everyone wig flew snatched made mind started a...   \n",
       "199  happened mediocre season long crowned winner l...   \n",
       "605               dont let girl win get mad asfjwmaudm   \n",
       "\n",
       "                                       text_string_lem  is_equal    neg  \\\n",
       "545  manifesting na manalo ung baddest bitch game p...      True  0.521   \n",
       "63   way premier damn fucking killed sirena still n...      True  0.428   \n",
       "287                            goooooooooooo bad bitch      True  0.880   \n",
       "562  everyone wig flew snatched made mind started a...      True  0.356   \n",
       "199  happened mediocre season long crowned winner l...      True  0.344   \n",
       "605               dont let girl win get mad asfjwmaudm      True  0.556   \n",
       "\n",
       "       neu    pos  compound sentiment  \n",
       "545  0.479  0.000   -0.8225  negative  \n",
       "63   0.572  0.000   -0.8173  negative  \n",
       "287  0.120  0.000   -0.8074  negative  \n",
       "562  0.644  0.000   -0.8020  negative  \n",
       "199  0.530  0.126   -0.7650  negative  \n",
       "605  0.444  0.000   -0.7409  negative  "
      ]
     },
     "execution_count": 72,
     "metadata": {},
     "output_type": "execute_result"
    }
   ],
   "source": [
    "#what are the outliers with a compound score less than -0.75?\n",
    "MS_SA.sort_values(by= ['compound']).head(6)"
   ]
  },
  {
   "cell_type": "code",
   "execution_count": 73,
   "metadata": {
    "colab": {
     "base_uri": "https://localhost:8080/",
     "height": 701
    },
    "id": "D1bT9o5g7ROg",
    "outputId": "d6023fab-95bb-4bab-faa4-624a7a235906"
   },
   "outputs": [
    {
     "data": {
      "text/html": [
       "<div>\n",
       "<style scoped>\n",
       "    .dataframe tbody tr th:only-of-type {\n",
       "        vertical-align: middle;\n",
       "    }\n",
       "\n",
       "    .dataframe tbody tr th {\n",
       "        vertical-align: top;\n",
       "    }\n",
       "\n",
       "    .dataframe thead th {\n",
       "        text-align: right;\n",
       "    }\n",
       "</style>\n",
       "<table border=\"1\" class=\"dataframe\">\n",
       "  <thead>\n",
       "    <tr style=\"text-align: right;\">\n",
       "      <th></th>\n",
       "      <th>user_name</th>\n",
       "      <th>date</th>\n",
       "      <th>text</th>\n",
       "      <th>Date</th>\n",
       "      <th>Time</th>\n",
       "      <th>split</th>\n",
       "      <th>hashtags</th>\n",
       "      <th>text_token</th>\n",
       "      <th>text_string</th>\n",
       "      <th>text_string_fdist</th>\n",
       "      <th>text_string_lem</th>\n",
       "      <th>is_equal</th>\n",
       "      <th>neg</th>\n",
       "      <th>neu</th>\n",
       "      <th>pos</th>\n",
       "      <th>compound</th>\n",
       "      <th>sentiment</th>\n",
       "    </tr>\n",
       "  </thead>\n",
       "  <tbody>\n",
       "    <tr>\n",
       "      <th>276</th>\n",
       "      <td>John Yuri</td>\n",
       "      <td>2022-10-12 12:03:35+00:00</td>\n",
       "      <td>imma crying mess!!! 😭  killed it!!!\\n\\ncondrag...</td>\n",
       "      <td>2022-10-12</td>\n",
       "      <td>12:03:35</td>\n",
       "      <td>[imma, crying, mess!!!, 😭, , killed, it!!!\\n\\n...</td>\n",
       "      <td>[]</td>\n",
       "      <td>[imma, crying, mess, killed, condragulations]</td>\n",
       "      <td>imma crying mess killed condragulations</td>\n",
       "      <td>imma crying mess killed condragulations</td>\n",
       "      <td>imma crying mess killed condragulations</td>\n",
       "      <td>True</td>\n",
       "      <td>0.835</td>\n",
       "      <td>0.165</td>\n",
       "      <td>0.000</td>\n",
       "      <td>-0.8779</td>\n",
       "      <td>negative</td>\n",
       "    </tr>\n",
       "    <tr>\n",
       "      <th>676</th>\n",
       "      <td>AC | Precious PANALO NA Nicole 👑💖</td>\n",
       "      <td>2022-10-11 11:36:15+00:00</td>\n",
       "      <td>here's your first drag superstar,  \\n\\n\"my fea...</td>\n",
       "      <td>2022-10-11</td>\n",
       "      <td>11:36:15</td>\n",
       "      <td>[Here's, your, first, Drag, Superstar,, , \\n\\n...</td>\n",
       "      <td>[TeamPreciousPaulaNicole]</td>\n",
       "      <td>[first, drag, superstar, fears, behind, gone, ...</td>\n",
       "      <td>first drag superstar fears behind gone shadows...</td>\n",
       "      <td>first drag superstar fears behind gone shadows...</td>\n",
       "      <td>first drag superstar fears behind gone shadows...</td>\n",
       "      <td>True</td>\n",
       "      <td>0.590</td>\n",
       "      <td>0.410</td>\n",
       "      <td>0.000</td>\n",
       "      <td>-0.7351</td>\n",
       "      <td>negative</td>\n",
       "    </tr>\n",
       "    <tr>\n",
       "      <th>299</th>\n",
       "      <td>King | He, him, his</td>\n",
       "      <td>2022-10-12 11:59:46+00:00</td>\n",
       "      <td>oh my god! that was one hell of a lip sync bat...</td>\n",
       "      <td>2022-10-12</td>\n",
       "      <td>11:59:46</td>\n",
       "      <td>[Oh, my, god!, That, was, one, hell, of, a, li...</td>\n",
       "      <td>[DragRacePHfinale, TeamPreciousPaulaNicole, Te...</td>\n",
       "      <td>[oh, god, one, hell, lip, sync, battle, deserv...</td>\n",
       "      <td>god one hell lip sync battle deserve crown</td>\n",
       "      <td>god one hell lip sync battle deserve crown</td>\n",
       "      <td>god one hell lip sync battle deserve crown</td>\n",
       "      <td>True</td>\n",
       "      <td>0.503</td>\n",
       "      <td>0.350</td>\n",
       "      <td>0.147</td>\n",
       "      <td>-0.7269</td>\n",
       "      <td>negative</td>\n",
       "    </tr>\n",
       "    <tr>\n",
       "      <th>246</th>\n",
       "      <td>minnie</td>\n",
       "      <td>2022-10-12 12:13:59+00:00</td>\n",
       "      <td>she’s proof that you can\\nwalk through hell an...</td>\n",
       "      <td>2022-10-12</td>\n",
       "      <td>12:13:59</td>\n",
       "      <td>[she’s, proof, that, you, can\\nwalk, through, ...</td>\n",
       "      <td>[TeamPreciousPaulaNicole, TeamPrecious, DragRa...</td>\n",
       "      <td>[proof, walk, hell, still, angel, condragulati...</td>\n",
       "      <td>proof walk hell still angel condragulations</td>\n",
       "      <td>proof walk hell still angel condragulations</td>\n",
       "      <td>proof walk hell still angel condragulations</td>\n",
       "      <td>True</td>\n",
       "      <td>0.479</td>\n",
       "      <td>0.521</td>\n",
       "      <td>0.000</td>\n",
       "      <td>-0.6808</td>\n",
       "      <td>negative</td>\n",
       "    </tr>\n",
       "    <tr>\n",
       "      <th>58</th>\n",
       "      <td>Don Brandon Barreto</td>\n",
       "      <td>2022-10-12 15:59:35+00:00</td>\n",
       "      <td>y’all!!! ppn killed that lipsync between marin...</td>\n",
       "      <td>2022-10-12</td>\n",
       "      <td>15:59:35</td>\n",
       "      <td>[Y’all!!!, PPN, killed, that, lipsync, between...</td>\n",
       "      <td>[TeamPreciousPaulaNicole, BossRodolfo]</td>\n",
       "      <td>[ppn, killed, lipsync, marina, bat, ang, pait,...</td>\n",
       "      <td>ppn killed lipsync marina bat ang pait nyo</td>\n",
       "      <td>ppn killed lipsync marina bat ang pait nyo</td>\n",
       "      <td>ppn killed lipsync marina bat ang pait nyo</td>\n",
       "      <td>True</td>\n",
       "      <td>0.391</td>\n",
       "      <td>0.609</td>\n",
       "      <td>0.000</td>\n",
       "      <td>-0.6705</td>\n",
       "      <td>negative</td>\n",
       "    </tr>\n",
       "    <tr>\n",
       "      <th>132</th>\n",
       "      <td>Sabon 🐘</td>\n",
       "      <td>2022-10-12 13:10:30+00:00</td>\n",
       "      <td>playing kill the lights as a celebratory song.</td>\n",
       "      <td>2022-10-12</td>\n",
       "      <td>13:10:30</td>\n",
       "      <td>[Playing, Kill, the, lights, as, a, celebrator...</td>\n",
       "      <td>[TeamPreciousPaulaNicole, DragRacePHfinale]</td>\n",
       "      <td>[playing, kill, lights, celebratory, song]</td>\n",
       "      <td>playing kill lights celebratory song</td>\n",
       "      <td>playing kill lights celebratory song</td>\n",
       "      <td>playing kill lights celebratory song</td>\n",
       "      <td>True</td>\n",
       "      <td>0.495</td>\n",
       "      <td>0.316</td>\n",
       "      <td>0.189</td>\n",
       "      <td>-0.5994</td>\n",
       "      <td>negative</td>\n",
       "    </tr>\n",
       "  </tbody>\n",
       "</table>\n",
       "</div>"
      ],
      "text/plain": [
       "                             user_name                       date  \\\n",
       "276                          John Yuri  2022-10-12 12:03:35+00:00   \n",
       "676  AC | Precious PANALO NA Nicole 👑💖  2022-10-11 11:36:15+00:00   \n",
       "299                King | He, him, his  2022-10-12 11:59:46+00:00   \n",
       "246                             minnie  2022-10-12 12:13:59+00:00   \n",
       "58                 Don Brandon Barreto  2022-10-12 15:59:35+00:00   \n",
       "132                            Sabon 🐘  2022-10-12 13:10:30+00:00   \n",
       "\n",
       "                                                  text        Date      Time  \\\n",
       "276  imma crying mess!!! 😭  killed it!!!\\n\\ncondrag...  2022-10-12  12:03:35   \n",
       "676  here's your first drag superstar,  \\n\\n\"my fea...  2022-10-11  11:36:15   \n",
       "299  oh my god! that was one hell of a lip sync bat...  2022-10-12  11:59:46   \n",
       "246  she’s proof that you can\\nwalk through hell an...  2022-10-12  12:13:59   \n",
       "58   y’all!!! ppn killed that lipsync between marin...  2022-10-12  15:59:35   \n",
       "132   playing kill the lights as a celebratory song.    2022-10-12  13:10:30   \n",
       "\n",
       "                                                 split  \\\n",
       "276  [imma, crying, mess!!!, 😭, , killed, it!!!\\n\\n...   \n",
       "676  [Here's, your, first, Drag, Superstar,, , \\n\\n...   \n",
       "299  [Oh, my, god!, That, was, one, hell, of, a, li...   \n",
       "246  [she’s, proof, that, you, can\\nwalk, through, ...   \n",
       "58   [Y’all!!!, PPN, killed, that, lipsync, between...   \n",
       "132  [Playing, Kill, the, lights, as, a, celebrator...   \n",
       "\n",
       "                                              hashtags  \\\n",
       "276                                                 []   \n",
       "676                          [TeamPreciousPaulaNicole]   \n",
       "299  [DragRacePHfinale, TeamPreciousPaulaNicole, Te...   \n",
       "246  [TeamPreciousPaulaNicole, TeamPrecious, DragRa...   \n",
       "58              [TeamPreciousPaulaNicole, BossRodolfo]   \n",
       "132        [TeamPreciousPaulaNicole, DragRacePHfinale]   \n",
       "\n",
       "                                            text_token  \\\n",
       "276      [imma, crying, mess, killed, condragulations]   \n",
       "676  [first, drag, superstar, fears, behind, gone, ...   \n",
       "299  [oh, god, one, hell, lip, sync, battle, deserv...   \n",
       "246  [proof, walk, hell, still, angel, condragulati...   \n",
       "58   [ppn, killed, lipsync, marina, bat, ang, pait,...   \n",
       "132         [playing, kill, lights, celebratory, song]   \n",
       "\n",
       "                                           text_string  \\\n",
       "276            imma crying mess killed condragulations   \n",
       "676  first drag superstar fears behind gone shadows...   \n",
       "299         god one hell lip sync battle deserve crown   \n",
       "246        proof walk hell still angel condragulations   \n",
       "58          ppn killed lipsync marina bat ang pait nyo   \n",
       "132               playing kill lights celebratory song   \n",
       "\n",
       "                                     text_string_fdist  \\\n",
       "276            imma crying mess killed condragulations   \n",
       "676  first drag superstar fears behind gone shadows...   \n",
       "299         god one hell lip sync battle deserve crown   \n",
       "246        proof walk hell still angel condragulations   \n",
       "58          ppn killed lipsync marina bat ang pait nyo   \n",
       "132               playing kill lights celebratory song   \n",
       "\n",
       "                                       text_string_lem  is_equal    neg  \\\n",
       "276            imma crying mess killed condragulations      True  0.835   \n",
       "676  first drag superstar fears behind gone shadows...      True  0.590   \n",
       "299         god one hell lip sync battle deserve crown      True  0.503   \n",
       "246        proof walk hell still angel condragulations      True  0.479   \n",
       "58          ppn killed lipsync marina bat ang pait nyo      True  0.391   \n",
       "132               playing kill lights celebratory song      True  0.495   \n",
       "\n",
       "       neu    pos  compound sentiment  \n",
       "276  0.165  0.000   -0.8779  negative  \n",
       "676  0.410  0.000   -0.7351  negative  \n",
       "299  0.350  0.147   -0.7269  negative  \n",
       "246  0.521  0.000   -0.6808  negative  \n",
       "58   0.609  0.000   -0.6705  negative  \n",
       "132  0.316  0.189   -0.5994  negative  "
      ]
     },
     "execution_count": 73,
     "metadata": {},
     "output_type": "execute_result"
    }
   ],
   "source": [
    "#what are negative sentiments for PPN?\n",
    "PPN_SA.sort_values(by= ['compound']).head(6)"
   ]
  },
  {
   "cell_type": "markdown",
   "metadata": {
    "id": "5klII2RjfNgS"
   },
   "source": [
    "## Combined Sentiments"
   ]
  },
  {
   "cell_type": "code",
   "execution_count": 74,
   "metadata": {
    "id": "VNHgVevCgm8i"
   },
   "outputs": [],
   "source": [
    "columns = ['sentiment', 'positive', 'neutral', 'negative']"
   ]
  },
  {
   "cell_type": "code",
   "execution_count": 75,
   "metadata": {
    "id": "PERuElOEfdil"
   },
   "outputs": [],
   "source": [
    "PPN_count = PPN_count.T.reset_index()\n",
    "PPN_count.columns = columns\n",
    "\n",
    "MS_count = MS_count.T.reset_index()\n",
    "MS_count.columns = columns"
   ]
  },
  {
   "cell_type": "code",
   "execution_count": 76,
   "metadata": {
    "id": "0sEsYHpJfiIn"
   },
   "outputs": [],
   "source": [
    "PPN_emoji = PPN_emo_sum.T.reset_index().drop([0])\n",
    "PPN_emoji.columns = columns\n",
    "PPN_emoji = PPN_emoji.astype({'positive':'int',\n",
    "                              'neutral':'int',\n",
    "                              'negative':'int',})\n",
    "\n",
    "MS_emoji = MS_emo_sum.T.reset_index().drop([0])\n",
    "MS_emoji.columns = columns"
   ]
  },
  {
   "cell_type": "code",
   "execution_count": 79,
   "metadata": {
    "colab": {
     "base_uri": "https://localhost:8080/",
     "height": 143
    },
    "id": "VMMyy51MjHVe",
    "outputId": "473c2cd9-1194-416d-c8b6-93ea2fa7a31f"
   },
   "outputs": [],
   "source": [
    "PPN_add = PPN_count.iloc[0] + PPN_emoji.iloc[0]\n",
    "MS_add = MS_count.iloc[0] + MS_emoji.iloc[0]\n",
    "\n",
    "PPN_add = pd.DataFrame(PPN_add).drop('sentiment')\n",
    "MS_add = pd.DataFrame(MS_add).drop('sentiment')"
   ]
  },
  {
   "cell_type": "code",
   "execution_count": 80,
   "metadata": {
    "colab": {
     "base_uri": "https://localhost:8080/",
     "height": 513
    },
    "id": "JwaXRqakl_FI",
    "outputId": "97b3eab8-fa15-478c-d6d9-33329cdd1547"
   },
   "outputs": [
    {
     "data": {
      "image/png": "[encoded data removed]",
      "text/plain": [
       "<Figure size 1296x504 with 2 Axes>"
      ]
     },
     "metadata": {
      "needs_background": "light"
     },
     "output_type": "display_data"
    }
   ],
   "source": [
    "#placing the sentiment charts side by side\n",
    "fig = plt.figure(figsize=(18, 7))\n",
    "\n",
    "sns.set_palette('muted')\n",
    "\n",
    "ax = fig.add_subplot(1, 2, 1)\n",
    "ax = sns.barplot(x=PPN_add[0].index, y=PPN_add[0])\n",
    "ax.set_title('PPN Added Sentiment Values by Counts', fontsize=18, fontweight='bold')\n",
    "ax.set_xlabel(\"Sentiment Score\", fontsize=12)\n",
    "ax.set_ylabel(\"Number of Sentiments\", fontsize=12)\n",
    "ax.set_ylim(0,1000)\n",
    "\n",
    "ax2 = fig.add_subplot(1, 2, 2)\n",
    "ax2 = sns.barplot(x=MS_add[0].index, y=MS_add[0], order=('positive', 'neutral', 'negative'))\n",
    "ax2.set_title('PPN Added Sentiment Values by Counts', fontsize=18, fontweight='bold')\n",
    "ax2.set_xlabel(\"Sentiment Score\", fontsize=12)\n",
    "ax2.set_ylabel(\"Number of Sentiments\", fontsize=12)\n",
    "ax2.set_ylim(0,1000)\n",
    "\n",
    "plt.tight_layout()"
   ]
  },
  {
   "cell_type": "markdown",
   "metadata": {
    "id": "P67YdOOsqPOK"
   },
   "source": [
    "As seen in the plot above, that even if the text and emoji sentiments would be added up together, PPN would still have a more positive response and MS would be having a neutral response from the fans. "
   ]
  },
  {
   "cell_type": "markdown",
   "metadata": {
    "id": "JUi7gG90ZKpt"
   },
   "source": [
    "# Insights and Conclusions"
   ]
  },
  {
   "cell_type": "markdown",
   "metadata": {
    "id": "egi7V-xSeyI2"
   },
   "source": [
    "## Conclusion\n",
    "\n",
    "Based on the visuals we made, there are more positive sentiment text and emojis for Precious Paula Nicole. Marina Summers has mostly neutral sentiment text and emojis. In the box plot created, there are outlier tweets for Marina Summers towards the negative compound score, whilst Precious Paula Nicole has longer whiskers. This suggests that the spectrum or range of emotions evident in tweets related to Precious Paula Nicole is wider as compared to Marina Summers. However, since the left whisker for Marina Summers is shorter than for Precious Paula Nicole, it can also be stated that the tweets for Marina Summers are more consistently neutral to negative than for Precious Paula Nicole. "
   ]
  },
  {
   "cell_type": "markdown",
   "metadata": {
    "id": "wDxyOnZwq6oO"
   },
   "source": [
    "## Limitations\n",
    "\n",
    "As for the limitations, the **sentimentanalyzer** uses tokens and not the relationship of each word to each other, therefore it cannot interpret the actual message of ALL twitter users (i.g. genz terms that may be derogatory are actually uplifting)\n",
    "\n",
    "Another limit of this project would not be recognizing the sentimental value of Tagalog words and English and gay lingo; Lastly, another limitation would be gathering the value or understanding sarcasm in each Tweet."
   ]
  },
  {
   "cell_type": "code",
   "execution_count": null,
   "metadata": {
    "id": "WwrGJYlVruVs"
   },
   "outputs": [],
   "source": []
  }
 ],
 "metadata": {
  "colab": {
   "collapsed_sections": [
    "9Ev7sKCkM7sz",
    "L5TnBgWhYJLX",
    "uSYbczlya1-X",
    "KmOcEyE7zuPD",
    "1lO54t4fqpdZ",
    "xGqHFzlkqxVR",
    "BDoAlC_ov-7N",
    "PLdVjPGqe387",
    "Pr7pskhwgWM2",
    "QODDb-dlgqbC",
    "BFDeKcHfgtsC",
    "7f0rXszBhelq",
    "KyMWoKyUO9Cn",
    "UAt1qUcl_aVE",
    "S7CqevQW_g-6",
    "Fy8yoavqYL4y",
    "plqLeI20AemY",
    "WA-UhhhwwJ2M",
    "ifV567kv_2i5",
    "s0n-3e1jVOSC",
    "FzxkarlAnuAh",
    "5klII2RjfNgS",
    "JUi7gG90ZKpt",
    "wDxyOnZwq6oO"
   ],
   "provenance": [],
   "toc_visible": true
  },
  "kernelspec": {
   "display_name": "Python 3",
   "language": "python",
   "name": "python3"
  },
  "language_info": {
   "codemirror_mode": {
    "name": "ipython",
    "version": 3
   },
   "file_extension": ".py",
   "mimetype": "text/x-python",
   "name": "python",
   "nbconvert_exporter": "python",
   "pygments_lexer": "ipython3",
   "version": "3.8.8"
  }
 },
 "nbformat": 4,
 "nbformat_minor": 4
}
